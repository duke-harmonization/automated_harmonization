{
 "cells": [
  {
   "cell_type": "code",
   "execution_count": 1,
   "id": "341ad9ed-730d-4699-bc3b-b9dfd422e6bf",
   "metadata": {},
   "outputs": [],
   "source": [
    "import pandas as pd\n",
    "import numpy as np\n",
    "import random \n",
    "import math\n",
    "import logging\n",
    "import time \n",
    "import pickle \n",
    "\n",
    "import torch\n",
    "import torch.nn as nn\n",
    "import torch.nn.functional as F\n",
    "import torch.optim as optim\n",
    "\n",
    "from scipy.spatial import distance\n",
    "\n",
    "import matplotlib.pyplot as plt\n",
    "import matplotlib.ticker as ticker"
   ]
  },
  {
   "cell_type": "code",
   "execution_count": 3,
   "id": "1f1088e7-d1bb-4f3e-aa81-127971143529",
   "metadata": {},
   "outputs": [],
   "source": [
    "train = pd.read_pickle(\"/mnt/workspace/pratheek/data/pickle/paired_embedded_train_data_biolincc.pkl\")\n",
    "test = pd.read_pickle(\"/mnt/workspace/pratheek/data/pickle/paired_embedded_test_data_biolincc.pkl\")"
   ]
  },
  {
   "cell_type": "code",
   "execution_count": 4,
   "id": "44bababe-dc1d-431e-9d94-74b4a50957c6",
   "metadata": {},
   "outputs": [
    {
     "data": {
      "text/plain": [
       "Generator(PCG64) at 0x7FACE1A3B050"
      ]
     },
     "execution_count": 4,
     "metadata": {},
     "output_type": "execute_result"
    }
   ],
   "source": [
    "np.random.default_rng(seed=42)"
   ]
  },
  {
   "cell_type": "code",
   "execution_count": 5,
   "id": "e8585fce-1747-4ba8-9cec-fd4879c2614a",
   "metadata": {},
   "outputs": [
    {
     "name": "stdout",
     "output_type": "stream",
     "text": [
      "(47000, 10) (11890, 10)\n"
     ]
    }
   ],
   "source": [
    "print(train.shape, test.shape)"
   ]
  },
  {
   "cell_type": "code",
   "execution_count": 7,
   "id": "f03e2d52-a76b-41cb-b487-e657b1fea50e",
   "metadata": {},
   "outputs": [
    {
     "data": {
      "text/plain": [
       "ARIC          24417\n",
       "Framingham    16621\n",
       "MESA           5125\n",
       "None            837\n",
       "Name: study_1, dtype: int64"
      ]
     },
     "execution_count": 7,
     "metadata": {},
     "output_type": "execute_result"
    }
   ],
   "source": [
    "train.study_1.value_counts(dropna=False)"
   ]
  },
  {
   "cell_type": "code",
   "execution_count": 8,
   "id": "8d826ad1-dc41-43c9-934a-ba86d2b7db00",
   "metadata": {},
   "outputs": [
    {
     "data": {
      "text/plain": [
       "Framingham    20457\n",
       "ARIC          14635\n",
       "MESA           8757\n",
       "None           3151\n",
       "Name: study_2, dtype: int64"
      ]
     },
     "execution_count": 8,
     "metadata": {},
     "output_type": "execute_result"
    }
   ],
   "source": [
    "train.study_2.value_counts(dropna=False)"
   ]
  },
  {
   "cell_type": "code",
   "execution_count": 17,
   "id": "7a1ceb3e-2572-4abc-96de-cac624ab8e01",
   "metadata": {},
   "outputs": [
    {
     "name": "stdout",
     "output_type": "stream",
     "text": [
      "(17712, 10)\n",
      "(34378, 10)\n",
      "(16810, 10)\n"
     ]
    }
   ],
   "source": [
    "train_ma = train[(train['study_1'].isin(['ARIC', 'MESA', 'None'])) & (train['study_2'].isin(['ARIC', 'MESA', 'None']))]\n",
    "print(train_am.shape)\n",
    "train_af = train[(train['study_1'].isin(['ARIC', 'Framingham', 'None'])) & (train['study_2'].isin(['ARIC', 'Framingham', 'None']))]\n",
    "print(train_af.shape)\n",
    "train_fm = train[(train['study_1'].isin(['Framingham', 'MESA', 'None'])) & (train['study_2'].isin(['Framingham', 'MESA', 'None']))]\n",
    "print(train_fm.shape)"
   ]
  },
  {
   "cell_type": "code",
   "execution_count": 24,
   "id": "2d3f00fc-a9ef-4e64-8703-0f820a069ba5",
   "metadata": {},
   "outputs": [
    {
     "data": {
      "text/plain": [
       "Framingham    12574\n",
       "MESA           3699\n",
       "None            537\n",
       "Name: study_1, dtype: int64"
      ]
     },
     "execution_count": 24,
     "metadata": {},
     "output_type": "execute_result"
    }
   ],
   "source": [
    "train_fm.study_1.value_counts(dropna=False)"
   ]
  },
  {
   "cell_type": "code",
   "execution_count": 25,
   "id": "67e67b59-51aa-497e-8227-04ef78868108",
   "metadata": {},
   "outputs": [
    {
     "data": {
      "text/plain": [
       "Framingham    10130\n",
       "MESA           4948\n",
       "None           1732\n",
       "Name: study_2, dtype: int64"
      ]
     },
     "execution_count": 25,
     "metadata": {},
     "output_type": "execute_result"
    }
   ],
   "source": [
    "train_fm.study_2.value_counts(dropna=False)"
   ]
  },
  {
   "cell_type": "code",
   "execution_count": 26,
   "id": "741df951-659e-40ee-884e-48b5603006f2",
   "metadata": {},
   "outputs": [],
   "source": [
    "train_ma.to_pickle(\"/mnt/workspace/pratheek/data/pickle/paired_embedded_train_data_biolincc_CS_mesa_aric.pkl\")\n",
    "train_af.to_pickle(\"/mnt/workspace/pratheek/data/pickle/paired_embedded_train_data_biolincc_CS_aric_framingham.pkl\")\n",
    "train_fm.to_pickle(\"/mnt/workspace/pratheek/data/pickle/paired_embedded_train_data_biolincc_CS_framingham_mesa.pkl\")"
   ]
  },
  {
   "cell_type": "code",
   "execution_count": null,
   "id": "22d2d0b3-2b04-453e-989e-6ab1687cea2a",
   "metadata": {},
   "outputs": [],
   "source": []
  }
 ],
 "metadata": {
  "kernelspec": {
   "display_name": "duke",
   "language": "python",
   "name": "duke"
  },
  "language_info": {
   "codemirror_mode": {
    "name": "ipython",
    "version": 3
   },
   "file_extension": ".py",
   "mimetype": "text/x-python",
   "name": "python",
   "nbconvert_exporter": "python",
   "pygments_lexer": "ipython3",
   "version": "3.7.16"
  }
 },
 "nbformat": 4,
 "nbformat_minor": 5
}
