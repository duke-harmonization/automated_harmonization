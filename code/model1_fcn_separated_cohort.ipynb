{
 "cells": [
  {
   "cell_type": "code",
   "execution_count": 1,
   "id": "a53793c0",
   "metadata": {},
   "outputs": [
    {
     "name": "stderr",
     "output_type": "stream",
     "text": [
      "/usr/bin/anaconda3/envs/duke/lib/python3.7/site-packages/tqdm/auto.py:21: TqdmWarning: IProgress not found. Please update jupyter and ipywidgets. See https://ipywidgets.readthedocs.io/en/stable/user_install.html\n",
      "  from .autonotebook import tqdm as notebook_tqdm\n"
     ]
    }
   ],
   "source": [
    "import pandas as pd\n",
    "import numpy as np\n",
    "import logging\n",
    "import time \n",
    "import math\n",
    "import random\n",
    "\n",
    "import torch\n",
    "import torch.nn as nn\n",
    "import torch.nn.functional as F\n",
    "import torch.optim as optim\n",
    "\n",
    "from torch.utils.data import TensorDataset, DataLoader, random_split\n",
    "\n",
    "from scipy.spatial import distance\n",
    "from sklearn import metrics\n",
    "\n",
    "import matplotlib.pyplot as plt\n",
    "import matplotlib.ticker as ticker\n",
    "import seaborn as sns\n",
    "\n",
    "from tqdm import tqdm\n",
    "import pickle"
   ]
  },
  {
   "cell_type": "code",
   "execution_count": 2,
   "id": "5e0d5bd3",
   "metadata": {},
   "outputs": [],
   "source": [
    "np.random.default_rng(seed=42)\n",
    "np.random.seed(42)\n",
    "torch.manual_seed(42)\n",
    "random.seed(42)"
   ]
  },
  {
   "cell_type": "code",
   "execution_count": 3,
   "id": "c166f661",
   "metadata": {},
   "outputs": [],
   "source": [
    "train_ma = pd.read_pickle(\"/mnt/workspace/data/pickle/paired_embedded_train_data_SC_mesa_aric.pkl\")\n",
    "train_af = pd.read_pickle(\"/mnt/workspace/data/pickle/paired_embedded_train_data_SC_aric_framingham.pkl\")\n",
    "train_fm = pd.read_pickle(\"/mnt/workspace/data/pickle/paired_embedded_train_data_SC_framingham_mesa.pkl\")\n",
    "test = pd.read_pickle(\"/mnt/workspace/data/pickle/paired_embedded_test_data.pkl\")"
   ]
  },
  {
   "cell_type": "code",
   "execution_count": 4,
   "id": "64207689",
   "metadata": {},
   "outputs": [
    {
     "name": "stdout",
     "output_type": "stream",
     "text": [
      "(17712, 10) (34378, 10) (16810, 10) (11890, 10)\n"
     ]
    }
   ],
   "source": [
    "print(train_ma.shape, train_af.shape, train_fm.shape, test.shape)"
   ]
  },
  {
   "cell_type": "markdown",
   "id": "ce99b3e1",
   "metadata": {},
   "source": [
    "### Dataset Creation"
   ]
  },
  {
   "cell_type": "code",
   "execution_count": 5,
   "id": "303f87ae",
   "metadata": {},
   "outputs": [
    {
     "name": "stderr",
     "output_type": "stream",
     "text": [
      "/usr/bin/anaconda3/envs/duke/lib/python3.7/site-packages/ipykernel_launcher.py:1: UserWarning: Creating a tensor from a list of numpy.ndarrays is extremely slow. Please consider converting the list to a single numpy.ndarray with numpy.array() before converting to a tensor. (Triggered internally at ../torch/csrc/utils/tensor_new.cpp:230.)\n",
      "  \"\"\"Entry point for launching an IPython kernel.\n"
     ]
    }
   ],
   "source": [
    "tr_ma_input1 = torch.tensor([x[0].numpy() for x in train_ma[['biobert_embedding_1']].to_numpy()])\n",
    "tr_af_input1 = torch.tensor([x[0].numpy() for x in train_af[['biobert_embedding_1']].to_numpy()])\n",
    "tr_fm_input1 = torch.tensor([x[0].numpy() for x in train_fm[['biobert_embedding_1']].to_numpy()])\n",
    "\n",
    "tr_ma_input2 = torch.tensor([x[0].numpy() for x in train_ma[['biobert_embedding_2']].to_numpy()])\n",
    "tr_af_input2 = torch.tensor([x[0].numpy() for x in train_af[['biobert_embedding_2']].to_numpy()])\n",
    "tr_fm_input2 = torch.tensor([x[0].numpy() for x in train_fm[['biobert_embedding_2']].to_numpy()])\n",
    "\n",
    "tr_ma_targets = torch.tensor([x for x in train_ma[['match']].to_numpy()]).to(torch.float32)\n",
    "tr_af_targets = torch.tensor([x for x in train_af[['match']].to_numpy()]).to(torch.float32)\n",
    "tr_fm_targets = torch.tensor([x for x in train_fm[['match']].to_numpy()]).to(torch.float32)\n",
    "\n",
    "tr_ma_idx = torch.tensor([x for x in train_ma[['idx']].to_numpy()])\n",
    "tr_af_idx = torch.tensor([x for x in train_af[['idx']].to_numpy()])\n",
    "tr_fm_idx = torch.tensor([x for x in train_fm[['idx']].to_numpy()])\n",
    "\n",
    "batch_size = 5000\n",
    "\n",
    "te_input1 = torch.tensor([x[0].numpy() for x in test[['biobert_embedding_1']].to_numpy()])\n",
    "te_input2 = torch.tensor([x[0].numpy() for x in test[['biobert_embedding_2']].to_numpy()])\n",
    "te_targets = torch.tensor([x for x in test[['match']].to_numpy()]).to(torch.float32)\n",
    "te_idx = torch.tensor([x for x in test[['idx']].to_numpy()])\n",
    "\n",
    "tr_ma_dataset = TensorDataset(tr_ma_idx, tr_ma_input1, tr_ma_input2, tr_ma_targets)\n",
    "tr_af_dataset = TensorDataset(tr_af_idx, tr_af_input1, tr_af_input2, tr_af_targets)\n",
    "tr_fm_dataset = TensorDataset(tr_fm_idx, tr_fm_input1, tr_fm_input2, tr_fm_targets)\n",
    "\n",
    "te_dataset = TensorDataset(te_idx, te_input1, te_input2, te_targets)\n",
    "\n",
    "train_ma_data, val_ma_data = random_split(tr_ma_dataset, [14170, 3542])\n",
    "train_af_data, val_af_data = random_split(tr_af_dataset, [27502, 6876])\n",
    "train_fm_data, val_fm_data = random_split(tr_fm_dataset, [13448, 3362])\n",
    "\n",
    "test_data, _ = random_split(te_dataset, [11880, 10])\n",
    "\n",
    "train_ma_loader = DataLoader(train_ma_data, batch_size)\n",
    "train_af_loader = DataLoader(train_af_data, batch_size)\n",
    "train_fm_loader = DataLoader(train_fm_data, batch_size)\n",
    "\n",
    "val_ma_loader = DataLoader(val_ma_data, batch_size)\n",
    "val_af_loader = DataLoader(val_af_data, batch_size)\n",
    "val_fm_loader = DataLoader(val_fm_data, batch_size)\n",
    "\n",
    "test_loader = DataLoader(test_data, batch_size)"
   ]
  },
  {
   "cell_type": "markdown",
   "id": "a417224c",
   "metadata": {
    "tags": []
   },
   "source": [
    "### Model Creation"
   ]
  },
  {
   "cell_type": "code",
   "execution_count": 6,
   "id": "b6567387",
   "metadata": {},
   "outputs": [],
   "source": [
    "class FCN(nn.Module):\n",
    "    def __init__(self):\n",
    "        super(FCN, self).__init__()\n",
    "        \n",
    "        self.first_layer = nn.Linear(768, 256) \n",
    "        # also add a dropout layer (10%) after initial tests without\n",
    "        self.relu = nn.ReLU()\n",
    "        self.second_layer = nn.Linear(256, 128)\n",
    "        self.cosine = nn.CosineSimilarity(dim=1, eps=1e-6)\n",
    "        self.sigmoid = nn.Sigmoid()\n",
    "        self.bias = nn.Parameter(torch.rand(1, 1))\n",
    "        self.w = nn.Parameter(torch.rand(1, 1))\n",
    "\n",
    "    def forward(self, inp1, inp2):\n",
    "        hidden_first_1 = self.first_layer(inp1)\n",
    "        hidden_first_2 = self.first_layer(inp2)\n",
    "        hidden_second_1 = self.second_layer(self.relu(hidden_first_1))\n",
    "        hidden_second_2 = self.second_layer(self.relu(hidden_first_2))\n",
    "        similarity = self.w * self.cosine(hidden_second_1, hidden_second_2) + self.bias\n",
    "        output = self.sigmoid(similarity)\n",
    "        return output.T"
   ]
  },
  {
   "cell_type": "code",
   "execution_count": 7,
   "id": "70253e6d",
   "metadata": {},
   "outputs": [],
   "source": [
    "model_ma = FCN()\n",
    "model_af = FCN()\n",
    "model_fm = FCN()"
   ]
  },
  {
   "cell_type": "markdown",
   "id": "03c07cb0",
   "metadata": {
    "tags": []
   },
   "source": [
    "### Training"
   ]
  },
  {
   "cell_type": "code",
   "execution_count": 8,
   "id": "95b07d26",
   "metadata": {},
   "outputs": [],
   "source": [
    "# init loss lists\n",
    "train_loss_history = []\n",
    "val_loss_history = []"
   ]
  },
  {
   "cell_type": "code",
   "execution_count": 9,
   "id": "309a2c33",
   "metadata": {},
   "outputs": [],
   "source": [
    "# init index trackers\n",
    "train_idx_tracker = []\n",
    "val_idx_tracker = []"
   ]
  },
  {
   "cell_type": "code",
   "execution_count": 10,
   "id": "027ac63b",
   "metadata": {},
   "outputs": [],
   "source": [
    "# set training hyperparameters\n",
    "num_epochs = 1000\n",
    "patience = 5\n",
    "min_val_delta = 0"
   ]
  },
  {
   "cell_type": "code",
   "execution_count": 11,
   "id": "365f0388",
   "metadata": {},
   "outputs": [
    {
     "name": "stdout",
     "output_type": "stream",
     "text": [
      "Epoch 0 \t Train Loss 2.306429 \t Val Loss 0.679889\n",
      "Epoch 5 \t Train Loss 1.924029 \t Val Loss 0.646201\n",
      "Epoch 10 \t Train Loss 1.873463 \t Val Loss 0.630841\n",
      "Epoch 15 \t Train Loss 1.844431 \t Val Loss 0.622598\n",
      "Epoch 20 \t Train Loss 1.819689 \t Val Loss 0.616141\n",
      "Epoch 40 \t Train Loss 1.735236 \t Val Loss 0.591718\n",
      "Epoch 60 \t Train Loss 1.663853 \t Val Loss 0.570990\n",
      "Epoch 80 \t Train Loss 1.600030 \t Val Loss 0.552193\n",
      "Epoch 100 \t Train Loss 1.540900 \t Val Loss 0.534199\n",
      "Epoch 120 \t Train Loss 1.486123 \t Val Loss 0.516796\n",
      "Epoch 140 \t Train Loss 1.434199 \t Val Loss 0.501114\n",
      "Epoch 160 \t Train Loss 1.386253 \t Val Loss 0.485510\n",
      "Epoch 180 \t Train Loss 1.340943 \t Val Loss 0.471651\n",
      "Epoch 200 \t Train Loss 1.297953 \t Val Loss 0.457779\n",
      "Epoch 220 \t Train Loss 1.256866 \t Val Loss 0.444987\n",
      "Epoch 240 \t Train Loss 1.218118 \t Val Loss 0.432932\n",
      "Epoch 260 \t Train Loss 1.181183 \t Val Loss 0.420613\n",
      "Epoch 280 \t Train Loss 1.146568 \t Val Loss 0.409583\n",
      "Epoch 300 \t Train Loss 1.113790 \t Val Loss 0.398623\n",
      "Epoch 320 \t Train Loss 1.082666 \t Val Loss 0.388855\n",
      "Epoch 340 \t Train Loss 1.052585 \t Val Loss 0.378977\n",
      "Epoch 360 \t Train Loss 1.024123 \t Val Loss 0.369824\n",
      "Epoch 380 \t Train Loss 0.997377 \t Val Loss 0.360944\n",
      "Epoch 400 \t Train Loss 0.971123 \t Val Loss 0.352467\n",
      "Epoch 420 \t Train Loss 0.946892 \t Val Loss 0.344677\n",
      "Epoch 440 \t Train Loss 0.922442 \t Val Loss 0.336455\n",
      "Epoch 460 \t Train Loss 0.899338 \t Val Loss 0.328765\n",
      "Epoch 480 \t Train Loss 0.877292 \t Val Loss 0.321379\n",
      "Epoch 500 \t Train Loss 0.855659 \t Val Loss 0.314522\n",
      "Epoch 520 \t Train Loss 0.835361 \t Val Loss 0.307625\n",
      "Epoch 540 \t Train Loss 0.815467 \t Val Loss 0.301306\n",
      "Epoch 560 \t Train Loss 0.796609 \t Val Loss 0.295317\n",
      "Epoch 580 \t Train Loss 0.778217 \t Val Loss 0.289266\n",
      "Epoch 600 \t Train Loss 0.760515 \t Val Loss 0.283626\n",
      "Epoch 620 \t Train Loss 0.743750 \t Val Loss 0.278152\n",
      "Epoch 640 \t Train Loss 0.727259 \t Val Loss 0.272843\n",
      "Epoch 660 \t Train Loss 0.711490 \t Val Loss 0.267647\n",
      "Epoch 680 \t Train Loss 0.695892 \t Val Loss 0.262712\n",
      "Epoch 700 \t Train Loss 0.680918 \t Val Loss 0.257965\n",
      "Epoch 720 \t Train Loss 0.667200 \t Val Loss 0.253387\n",
      "Epoch 740 \t Train Loss 0.652864 \t Val Loss 0.248748\n",
      "Epoch 760 \t Train Loss 0.639014 \t Val Loss 0.244382\n",
      "Epoch 780 \t Train Loss 0.626193 \t Val Loss 0.240285\n",
      "Epoch 800 \t Train Loss 0.613130 \t Val Loss 0.236064\n",
      "Epoch 820 \t Train Loss 0.600662 \t Val Loss 0.232078\n",
      "Epoch 840 \t Train Loss 0.588967 \t Val Loss 0.228118\n",
      "Epoch 860 \t Train Loss 0.577057 \t Val Loss 0.224421\n",
      "Epoch 880 \t Train Loss 0.565846 \t Val Loss 0.220881\n",
      "Epoch 900 \t Train Loss 0.554911 \t Val Loss 0.217310\n",
      "Epoch 920 \t Train Loss 0.544025 \t Val Loss 0.213724\n",
      "Epoch 940 \t Train Loss 0.533532 \t Val Loss 0.210370\n",
      "Epoch 960 \t Train Loss 0.523352 \t Val Loss 0.207030\n",
      "Epoch 980 \t Train Loss 0.513560 \t Val Loss 0.203843\n"
     ]
    }
   ],
   "source": [
    "if torch.cuda.is_available():\n",
    "    model_ma = model_ma.to('cuda')\n",
    "\n",
    "model_ma.train()\n",
    "\n",
    "criterion = nn.BCELoss()\n",
    "optimizer = optim.Adam(model_ma.parameters())\n",
    "early_stopping_counter = 0\n",
    "min_val_loss = np.inf\n",
    "\n",
    "for epoch in range(num_epochs):\n",
    "    epoch_loss = 0\n",
    "    epoch_val_loss = 0\n",
    "    \n",
    "    # compute train loss for epoch and step through\n",
    "    for batch in train_ma_loader:\n",
    "        optimizer.zero_grad()\n",
    "        \n",
    "        idx, inp1, inp2, label = batch\n",
    "        train_idx_tracker.append(idx.cpu().squeeze().detach().numpy())\n",
    "        \n",
    "        if torch.cuda.is_available():\n",
    "            inp1 = inp1.to('cuda')\n",
    "            inp2 = inp2.to('cuda')\n",
    "            label = label.to('cuda')\n",
    "\n",
    "        output = model_ma(inp1, inp2)\n",
    "        \n",
    "        loss = criterion(output, label)\n",
    "        loss.backward()\n",
    "        optimizer.step()\n",
    "\n",
    "        epoch_loss += loss.cpu().item()\n",
    "    \n",
    "    # compute val loss for epoch\n",
    "    with torch.no_grad():\n",
    "        for val_batch in val_ma_loader:\n",
    "                val_idx, val_inp1, val_inp2, val_label = val_batch\n",
    "                val_idx_tracker.append(val_idx.cpu().squeeze().detach().numpy())\n",
    "                \n",
    "                if torch.cuda.is_available():\n",
    "                    val_inp1 = val_inp1.to('cuda')\n",
    "                    val_inp2 = val_inp2.to('cuda')\n",
    "                    val_label = val_label.to('cuda')\n",
    "\n",
    "                val_output = model_ma(val_inp1, val_inp2)\n",
    "                val_loss = criterion(val_output, val_label)\n",
    "                epoch_val_loss += val_loss.cpu().item()\n",
    "    \n",
    "    # print to log\n",
    "    if (epoch % 20 == 0) and (epoch >= 20):\n",
    "        print(\"Epoch %d \\t Train Loss %.6f \\t Val Loss %.6f\" % (epoch, epoch_loss, epoch_val_loss))\n",
    "    elif (epoch % 5 == 0) and (epoch < 20):\n",
    "        print(\"Epoch %d \\t Train Loss %.6f \\t Val Loss %.6f\" % (epoch, epoch_loss, epoch_val_loss))\n",
    "    \n",
    "    # add loss to histories\n",
    "    train_loss_history.append(epoch_loss)\n",
    "    val_loss_history.append(epoch_val_loss)\n",
    "    \n",
    "    # set early stopping\n",
    "    if epoch_val_loss < min_val_loss:\n",
    "        min_val_loss = epoch_val_loss\n",
    "        early_stopping_counter = 0\n",
    "    elif epoch_val_loss > (min_val_loss + min_val_delta):\n",
    "        early_stopping_counter += 1\n",
    "        if early_stopping_counter >= patience:\n",
    "            print(\"Initiating early stopping at epoch %d.\" % (epoch))\n",
    "            break"
   ]
  },
  {
   "cell_type": "code",
   "execution_count": 12,
   "id": "0d4e6bbd",
   "metadata": {
    "tags": []
   },
   "outputs": [
    {
     "data": {
      "text/plain": [
       "<AxesSubplot:>"
      ]
     },
     "execution_count": 12,
     "metadata": {},
     "output_type": "execute_result"
    },
    {
     "data": {
      "image/png": "[encoded data removed]",
      "text/plain": [
       "<Figure size 640x480 with 1 Axes>"
      ]
     },
     "metadata": {},
     "output_type": "display_data"
    }
   ],
   "source": [
    "# plot the train and val losses\n",
    "loss_history = pd.DataFrame({\n",
    "    \"train_loss\": train_loss_history,\n",
    "    \"val_loss\": val_loss_history\n",
    "})\n",
    "sns.lineplot(data=loss_history)"
   ]
  },
  {
   "cell_type": "code",
   "execution_count": 13,
   "id": "ca6821fc",
   "metadata": {},
   "outputs": [],
   "source": [
    "# save model state_dict\n",
    "torch.save(model_ma.state_dict(), '/mnt/workspace/models/saved/model1_cohort_sep_ma.pth')"
   ]
  },
  {
   "cell_type": "code",
   "execution_count": 15,
   "id": "15333c81-a6fd-4176-820c-2f38dfc64eb5",
   "metadata": {},
   "outputs": [],
   "source": [
    "# init loss lists\n",
    "train_loss_history = []\n",
    "val_loss_history = []\n",
    "\n",
    "# init index trackers\n",
    "train_idx_tracker = []\n",
    "val_idx_tracker = []\n",
    "\n",
    "# set training hyperparameters\n",
    "num_epochs = 1000\n",
    "patience = 5\n",
    "min_val_delta = 0"
   ]
  },
  {
   "cell_type": "code",
   "execution_count": 16,
   "id": "7e66cdee-2092-4c28-9bf8-c2b1b5c24176",
   "metadata": {},
   "outputs": [
    {
     "name": "stdout",
     "output_type": "stream",
     "text": [
      "Epoch 0 \t Train Loss 5.956901 \t Val Loss 1.890697\n",
      "Epoch 5 \t Train Loss 5.467183 \t Val Loss 1.819874\n",
      "Epoch 10 \t Train Loss 5.350837 \t Val Loss 1.782568\n",
      "Epoch 15 \t Train Loss 5.248795 \t Val Loss 1.749944\n",
      "Epoch 20 \t Train Loss 5.151044 \t Val Loss 1.718918\n",
      "Epoch 40 \t Train Loss 4.766716 \t Val Loss 1.601768\n",
      "Epoch 60 \t Train Loss 4.428211 \t Val Loss 1.501510\n",
      "Epoch 80 \t Train Loss 4.123097 \t Val Loss 1.406747\n",
      "Epoch 100 \t Train Loss 3.844091 \t Val Loss 1.322437\n",
      "Epoch 120 \t Train Loss 3.587483 \t Val Loss 1.244443\n",
      "Epoch 140 \t Train Loss 3.354445 \t Val Loss 1.174141\n",
      "Epoch 160 \t Train Loss 3.135262 \t Val Loss 1.105167\n",
      "Epoch 180 \t Train Loss 2.939539 \t Val Loss 1.047427\n",
      "Epoch 200 \t Train Loss 2.764710 \t Val Loss 0.989333\n",
      "Epoch 220 \t Train Loss 2.598063 \t Val Loss 0.936292\n",
      "Epoch 240 \t Train Loss 2.445770 \t Val Loss 0.888476\n",
      "Epoch 260 \t Train Loss 2.309351 \t Val Loss 0.845247\n",
      "Epoch 280 \t Train Loss 2.188953 \t Val Loss 0.804673\n",
      "Epoch 300 \t Train Loss 2.072146 \t Val Loss 0.767916\n",
      "Epoch 320 \t Train Loss 1.966902 \t Val Loss 0.732643\n",
      "Epoch 340 \t Train Loss 1.870036 \t Val Loss 0.700890\n",
      "Epoch 360 \t Train Loss 1.783048 \t Val Loss 0.671665\n",
      "Epoch 380 \t Train Loss 1.700980 \t Val Loss 0.644829\n",
      "Epoch 400 \t Train Loss 1.625599 \t Val Loss 0.619469\n",
      "Epoch 420 \t Train Loss 1.557526 \t Val Loss 0.595737\n",
      "Epoch 440 \t Train Loss 1.490485 \t Val Loss 0.573402\n",
      "Epoch 460 \t Train Loss 1.431617 \t Val Loss 0.554587\n",
      "Epoch 480 \t Train Loss 1.375444 \t Val Loss 0.534719\n",
      "Epoch 500 \t Train Loss 1.322763 \t Val Loss 0.518309\n",
      "Epoch 520 \t Train Loss 1.273526 \t Val Loss 0.501263\n",
      "Epoch 540 \t Train Loss 1.229028 \t Val Loss 0.486425\n",
      "Epoch 560 \t Train Loss 1.186055 \t Val Loss 0.471314\n",
      "Epoch 580 \t Train Loss 1.146573 \t Val Loss 0.456605\n",
      "Epoch 600 \t Train Loss 1.106583 \t Val Loss 0.443454\n",
      "Epoch 620 \t Train Loss 1.071462 \t Val Loss 0.430984\n",
      "Epoch 640 \t Train Loss 1.036519 \t Val Loss 0.419302\n",
      "Epoch 660 \t Train Loss 1.005324 \t Val Loss 0.408910\n",
      "Epoch 680 \t Train Loss 0.974635 \t Val Loss 0.397126\n",
      "Epoch 700 \t Train Loss 0.944843 \t Val Loss 0.387149\n",
      "Epoch 720 \t Train Loss 0.917918 \t Val Loss 0.378033\n",
      "Epoch 740 \t Train Loss 0.892040 \t Val Loss 0.369500\n",
      "Epoch 760 \t Train Loss 0.866377 \t Val Loss 0.361233\n",
      "Epoch 780 \t Train Loss 0.843621 \t Val Loss 0.354203\n",
      "Epoch 800 \t Train Loss 0.821342 \t Val Loss 0.346176\n",
      "Epoch 820 \t Train Loss 0.800213 \t Val Loss 0.340498\n",
      "Epoch 840 \t Train Loss 0.780288 \t Val Loss 0.333068\n",
      "Epoch 860 \t Train Loss 0.760631 \t Val Loss 0.327906\n",
      "Epoch 880 \t Train Loss 0.743167 \t Val Loss 0.322315\n",
      "Epoch 900 \t Train Loss 0.725659 \t Val Loss 0.316371\n",
      "Epoch 920 \t Train Loss 0.708244 \t Val Loss 0.310964\n",
      "Epoch 940 \t Train Loss 0.692409 \t Val Loss 0.307058\n",
      "Epoch 960 \t Train Loss 0.677450 \t Val Loss 0.301644\n",
      "Epoch 980 \t Train Loss 0.663186 \t Val Loss 0.296347\n"
     ]
    }
   ],
   "source": [
    "if torch.cuda.is_available():\n",
    "    model_af = model_af.to('cuda')\n",
    "\n",
    "model_af.train()\n",
    "\n",
    "criterion = nn.BCELoss()\n",
    "optimizer = optim.Adam(model_af.parameters())\n",
    "early_stopping_counter = 0\n",
    "min_val_loss = np.inf\n",
    "\n",
    "for epoch in range(num_epochs):\n",
    "    epoch_loss = 0\n",
    "    epoch_val_loss = 0\n",
    "    \n",
    "    # compute train loss for epoch and step through\n",
    "    for batch in train_af_loader:\n",
    "        optimizer.zero_grad()\n",
    "        \n",
    "        idx, inp1, inp2, label = batch\n",
    "        train_idx_tracker.append(idx.cpu().squeeze().detach().numpy())\n",
    "        \n",
    "        if torch.cuda.is_available():\n",
    "            inp1 = inp1.to('cuda')\n",
    "            inp2 = inp2.to('cuda')\n",
    "            label = label.to('cuda')\n",
    "\n",
    "        output = model_af(inp1, inp2)\n",
    "        \n",
    "        loss = criterion(output, label)\n",
    "        loss.backward()\n",
    "        optimizer.step()\n",
    "\n",
    "        epoch_loss += loss.cpu().item()\n",
    "    \n",
    "    # compute val loss for epoch\n",
    "    with torch.no_grad():\n",
    "        for val_batch in val_af_loader:\n",
    "                val_idx, val_inp1, val_inp2, val_label = val_batch\n",
    "                val_idx_tracker.append(val_idx.cpu().squeeze().detach().numpy())\n",
    "                \n",
    "                if torch.cuda.is_available():\n",
    "                    val_inp1 = val_inp1.to('cuda')\n",
    "                    val_inp2 = val_inp2.to('cuda')\n",
    "                    val_label = val_label.to('cuda')\n",
    "\n",
    "                val_output = model_af(val_inp1, val_inp2)\n",
    "                val_loss = criterion(val_output, val_label)\n",
    "                epoch_val_loss += val_loss.cpu().item()\n",
    "    \n",
    "    # print to log\n",
    "    if (epoch % 20 == 0) and (epoch >= 20):\n",
    "        print(\"Epoch %d \\t Train Loss %.6f \\t Val Loss %.6f\" % (epoch, epoch_loss, epoch_val_loss))\n",
    "    elif (epoch % 5 == 0) and (epoch < 20):\n",
    "        print(\"Epoch %d \\t Train Loss %.6f \\t Val Loss %.6f\" % (epoch, epoch_loss, epoch_val_loss))\n",
    "    \n",
    "    # add loss to histories\n",
    "    train_loss_history.append(epoch_loss)\n",
    "    val_loss_history.append(epoch_val_loss)\n",
    "    \n",
    "    # set early stopping\n",
    "    if epoch_val_loss < min_val_loss:\n",
    "        min_val_loss = epoch_val_loss\n",
    "        early_stopping_counter = 0\n",
    "    elif epoch_val_loss > (min_val_loss + min_val_delta):\n",
    "        early_stopping_counter += 1\n",
    "        if early_stopping_counter >= patience:\n",
    "            print(\"Initiating early stopping at epoch %d.\" % (epoch))\n",
    "            break"
   ]
  },
  {
   "cell_type": "code",
   "execution_count": 17,
   "id": "577fc89f-ec41-4a58-be47-c5d085234e4f",
   "metadata": {},
   "outputs": [
    {
     "data": {
      "text/plain": [
       "<AxesSubplot:>"
      ]
     },
     "execution_count": 17,
     "metadata": {},
     "output_type": "execute_result"
    },
    {
     "data": {
      "image/png": "[encoded data removed]",
      "text/plain": [
       "<Figure size 640x480 with 1 Axes>"
      ]
     },
     "metadata": {},
     "output_type": "display_data"
    }
   ],
   "source": [
    "# plot the train and val losses\n",
    "loss_history = pd.DataFrame({\n",
    "    \"train_loss\": train_loss_history,\n",
    "    \"val_loss\": val_loss_history\n",
    "})\n",
    "sns.lineplot(data=loss_history)"
   ]
  },
  {
   "cell_type": "code",
   "execution_count": 18,
   "id": "bbbc599c-e5d2-4256-8400-ed93813571ae",
   "metadata": {},
   "outputs": [],
   "source": [
    "# save model state_dict\n",
    "torch.save(model_af.state_dict(), '/mnt/workspace/models/saved/model1_cohort_sep_af.pth')"
   ]
  },
  {
   "cell_type": "code",
   "execution_count": 19,
   "id": "379c5223-28ae-4e13-b7a4-41e1c887b420",
   "metadata": {},
   "outputs": [],
   "source": [
    "# init loss lists\n",
    "train_loss_history = []\n",
    "val_loss_history = []\n",
    "\n",
    "# init index trackers\n",
    "train_idx_tracker = []\n",
    "val_idx_tracker = []\n",
    "\n",
    "# set training hyperparameters\n",
    "num_epochs = 1000\n",
    "patience = 5\n",
    "min_val_delta = 0"
   ]
  },
  {
   "cell_type": "code",
   "execution_count": 20,
   "id": "06b69c53-fd93-42c9-8437-9e780c8bb8af",
   "metadata": {},
   "outputs": [
    {
     "name": "stdout",
     "output_type": "stream",
     "text": [
      "Epoch 0 \t Train Loss 3.459031 \t Val Loss 0.983174\n",
      "Epoch 5 \t Train Loss 2.746768 \t Val Loss 0.915023\n",
      "Epoch 10 \t Train Loss 2.676919 \t Val Loss 0.896153\n",
      "Epoch 15 \t Train Loss 2.632404 \t Val Loss 0.885676\n",
      "Epoch 20 \t Train Loss 2.596658 \t Val Loss 0.877616\n",
      "Epoch 40 \t Train Loss 2.474873 \t Val Loss 0.849458\n",
      "Epoch 60 \t Train Loss 2.368207 \t Val Loss 0.827632\n",
      "Epoch 80 \t Train Loss 2.271879 \t Val Loss 0.806495\n",
      "Epoch 100 \t Train Loss 2.185072 \t Val Loss 0.783196\n",
      "Epoch 120 \t Train Loss 2.102929 \t Val Loss 0.761137\n",
      "Epoch 140 \t Train Loss 2.024117 \t Val Loss 0.740613\n",
      "Epoch 160 \t Train Loss 1.951701 \t Val Loss 0.718246\n",
      "Epoch 180 \t Train Loss 1.885235 \t Val Loss 0.701217\n",
      "Epoch 200 \t Train Loss 1.815717 \t Val Loss 0.680964\n",
      "Epoch 220 \t Train Loss 1.753392 \t Val Loss 0.662300\n",
      "Epoch 240 \t Train Loss 1.692868 \t Val Loss 0.642992\n",
      "Epoch 260 \t Train Loss 1.633447 \t Val Loss 0.625503\n",
      "Epoch 280 \t Train Loss 1.580766 \t Val Loss 0.608767\n",
      "Epoch 300 \t Train Loss 1.526875 \t Val Loss 0.591501\n",
      "Epoch 320 \t Train Loss 1.478619 \t Val Loss 0.575384\n",
      "Epoch 340 \t Train Loss 1.430560 \t Val Loss 0.561992\n",
      "Epoch 360 \t Train Loss 1.386402 \t Val Loss 0.546452\n",
      "Epoch 380 \t Train Loss 1.343580 \t Val Loss 0.533401\n",
      "Epoch 400 \t Train Loss 1.305122 \t Val Loss 0.521026\n",
      "Epoch 420 \t Train Loss 1.265042 \t Val Loss 0.507325\n",
      "Epoch 440 \t Train Loss 1.229581 \t Val Loss 0.495101\n",
      "Epoch 460 \t Train Loss 1.194514 \t Val Loss 0.483328\n",
      "Epoch 480 \t Train Loss 1.160720 \t Val Loss 0.472774\n",
      "Epoch 500 \t Train Loss 1.130131 \t Val Loss 0.461996\n",
      "Epoch 520 \t Train Loss 1.098891 \t Val Loss 0.451883\n",
      "Epoch 540 \t Train Loss 1.070884 \t Val Loss 0.441963\n",
      "Epoch 560 \t Train Loss 1.043460 \t Val Loss 0.432600\n",
      "Epoch 580 \t Train Loss 1.017345 \t Val Loss 0.423624\n",
      "Epoch 600 \t Train Loss 0.992498 \t Val Loss 0.414787\n",
      "Epoch 620 \t Train Loss 0.968386 \t Val Loss 0.406224\n",
      "Epoch 640 \t Train Loss 0.945900 \t Val Loss 0.398217\n",
      "Epoch 660 \t Train Loss 0.924133 \t Val Loss 0.390050\n",
      "Epoch 680 \t Train Loss 0.903019 \t Val Loss 0.383108\n",
      "Epoch 700 \t Train Loss 0.883835 \t Val Loss 0.376712\n",
      "Epoch 720 \t Train Loss 0.864364 \t Val Loss 0.369493\n",
      "Epoch 740 \t Train Loss 0.845555 \t Val Loss 0.362498\n",
      "Epoch 760 \t Train Loss 0.828208 \t Val Loss 0.356419\n",
      "Epoch 780 \t Train Loss 0.811245 \t Val Loss 0.350183\n",
      "Epoch 800 \t Train Loss 0.795147 \t Val Loss 0.343928\n",
      "Epoch 820 \t Train Loss 0.780093 \t Val Loss 0.338428\n",
      "Epoch 840 \t Train Loss 0.765038 \t Val Loss 0.332878\n",
      "Epoch 860 \t Train Loss 0.750515 \t Val Loss 0.327783\n",
      "Epoch 880 \t Train Loss 0.736920 \t Val Loss 0.322147\n",
      "Epoch 900 \t Train Loss 0.723524 \t Val Loss 0.317571\n",
      "Epoch 920 \t Train Loss 0.710970 \t Val Loss 0.313064\n",
      "Epoch 940 \t Train Loss 0.698533 \t Val Loss 0.308239\n",
      "Epoch 960 \t Train Loss 0.686765 \t Val Loss 0.303680\n",
      "Epoch 980 \t Train Loss 0.675580 \t Val Loss 0.299306\n"
     ]
    }
   ],
   "source": [
    "if torch.cuda.is_available():\n",
    "    model_fm = model_fm.to('cuda')\n",
    "\n",
    "model_fm.train()\n",
    "\n",
    "criterion = nn.BCELoss()\n",
    "optimizer = optim.Adam(model_fm.parameters())\n",
    "early_stopping_counter = 0\n",
    "min_val_loss = np.inf\n",
    "\n",
    "for epoch in range(num_epochs):\n",
    "    epoch_loss = 0\n",
    "    epoch_val_loss = 0\n",
    "    \n",
    "    # compute train loss for epoch and step through\n",
    "    for batch in train_fm_loader:\n",
    "        optimizer.zero_grad()\n",
    "        \n",
    "        idx, inp1, inp2, label = batch\n",
    "        train_idx_tracker.append(idx.cpu().squeeze().detach().numpy())\n",
    "        \n",
    "        if torch.cuda.is_available():\n",
    "            inp1 = inp1.to('cuda')\n",
    "            inp2 = inp2.to('cuda')\n",
    "            label = label.to('cuda')\n",
    "\n",
    "        output = model_fm(inp1, inp2)\n",
    "        \n",
    "        loss = criterion(output, label)\n",
    "        loss.backward()\n",
    "        optimizer.step()\n",
    "\n",
    "        epoch_loss += loss.cpu().item()\n",
    "    \n",
    "    # compute val loss for epoch\n",
    "    with torch.no_grad():\n",
    "        for val_batch in val_fm_loader:\n",
    "                val_idx, val_inp1, val_inp2, val_label = val_batch\n",
    "                val_idx_tracker.append(val_idx.cpu().squeeze().detach().numpy())\n",
    "                \n",
    "                if torch.cuda.is_available():\n",
    "                    val_inp1 = val_inp1.to('cuda')\n",
    "                    val_inp2 = val_inp2.to('cuda')\n",
    "                    val_label = val_label.to('cuda')\n",
    "\n",
    "                val_output = model_fm(val_inp1, val_inp2)\n",
    "                val_loss = criterion(val_output, val_label)\n",
    "                epoch_val_loss += val_loss.cpu().item()\n",
    "    \n",
    "    # print to log\n",
    "    if (epoch % 20 == 0) and (epoch >= 20):\n",
    "        print(\"Epoch %d \\t Train Loss %.6f \\t Val Loss %.6f\" % (epoch, epoch_loss, epoch_val_loss))\n",
    "    elif (epoch % 5 == 0) and (epoch < 20):\n",
    "        print(\"Epoch %d \\t Train Loss %.6f \\t Val Loss %.6f\" % (epoch, epoch_loss, epoch_val_loss))\n",
    "    \n",
    "    # add loss to histories\n",
    "    train_loss_history.append(epoch_loss)\n",
    "    val_loss_history.append(epoch_val_loss)\n",
    "    \n",
    "    # set early stopping\n",
    "    if epoch_val_loss < min_val_loss:\n",
    "        min_val_loss = epoch_val_loss\n",
    "        early_stopping_counter = 0\n",
    "    elif epoch_val_loss > (min_val_loss + min_val_delta):\n",
    "        early_stopping_counter += 1\n",
    "        if early_stopping_counter >= patience:\n",
    "            print(\"Initiating early stopping at epoch %d.\" % (epoch))\n",
    "            break"
   ]
  },
  {
   "cell_type": "code",
   "execution_count": 21,
   "id": "5ab20e1e-c5c0-4ec6-8d98-cea88c68ce4c",
   "metadata": {},
   "outputs": [
    {
     "data": {
      "text/plain": [
       "<AxesSubplot:>"
      ]
     },
     "execution_count": 21,
     "metadata": {},
     "output_type": "execute_result"
    },
    {
     "data": {
      "image/png": "[encoded data removed]",
      "text/plain": [
       "<Figure size 640x480 with 1 Axes>"
      ]
     },
     "metadata": {},
     "output_type": "display_data"
    }
   ],
   "source": [
    "# plot the train and val losses\n",
    "loss_history = pd.DataFrame({\n",
    "    \"train_loss\": train_loss_history,\n",
    "    \"val_loss\": val_loss_history\n",
    "})\n",
    "sns.lineplot(data=loss_history)"
   ]
  },
  {
   "cell_type": "code",
   "execution_count": 22,
   "id": "2acebcb2-32ab-4126-88ef-8ee38f26bab3",
   "metadata": {},
   "outputs": [],
   "source": [
    "# save model state_dict\n",
    "torch.save(model_fm.state_dict(), '/mnt/workspace/models/saved/model1_cohort_sep_fm.pth')"
   ]
  },
  {
   "cell_type": "markdown",
   "id": "98364db8",
   "metadata": {},
   "source": [
    "### Inference"
   ]
  },
  {
   "cell_type": "code",
   "execution_count": 10,
   "id": "4c3a607a",
   "metadata": {},
   "outputs": [
    {
     "data": {
      "text/plain": [
       "FCN(\n",
       "  (first_layer): Linear(in_features=768, out_features=256, bias=True)\n",
       "  (relu): ReLU()\n",
       "  (second_layer): Linear(in_features=256, out_features=128, bias=True)\n",
       "  (cosine): CosineSimilarity()\n",
       "  (sigmoid): Sigmoid()\n",
       ")"
      ]
     },
     "execution_count": 10,
     "metadata": {},
     "output_type": "execute_result"
    }
   ],
   "source": [
    "inf_ma_model = FCN()\n",
    "inf_af_model = FCN()\n",
    "inf_fm_model = FCN()\n",
    "\n",
    "inf_ma_model.load_state_dict(torch.load('/mnt/workspace/models/saved/model1_cohort_sep_ma.pth'))\n",
    "inf_af_model.load_state_dict(torch.load('/mnt/workspace/models/saved/model1_cohort_sep_af.pth'))\n",
    "inf_fm_model.load_state_dict(torch.load('/mnt/workspace/models/saved/model1_cohort_sep_fm.pth'))\n",
    "\n",
    "if torch.cuda.is_available():\n",
    "    inf_ma_model = inf_ma_model.to('cuda')\n",
    "    inf_af_model = inf_af_model.to('cuda')\n",
    "    inf_fm_model = inf_fm_model.to('cuda')\n",
    "    \n",
    "inf_ma_model.eval()\n",
    "inf_af_model.eval()\n",
    "inf_fm_model.eval()"
   ]
  },
  {
   "cell_type": "code",
   "execution_count": 11,
   "id": "cf510227",
   "metadata": {},
   "outputs": [],
   "source": [
    "outputs_ma = []\n",
    "labels_ma = []\n",
    "idxs_ma = []\n",
    "\n",
    "for batch in test_loader:\n",
    "    idx, inp1, inp2, label = batch\n",
    "    idx = idx.cpu().squeeze().detach().numpy()\n",
    "    idxs_ma.append(idx)\n",
    "    \n",
    "    if torch.cuda.is_available():\n",
    "        inp1 = inp1.to('cuda')\n",
    "        inp2 = inp2.to('cuda')\n",
    "        label = label.to('cuda')\n",
    "\n",
    "    output = inf_ma_model(inp1, inp2)\n",
    "    \n",
    "    output = output.cpu().squeeze().detach().numpy()\n",
    "    outputs_ma.append(output)\n",
    "    label = label.cpu().squeeze().detach().numpy()\n",
    "    labels_ma.append(label)\n",
    "\n",
    "idxs_ma = np.concatenate(idxs_ma).ravel()\n",
    "outputs_ma = np.concatenate(outputs_ma).ravel()\n",
    "labels_ma = np.concatenate(labels_ma).ravel()"
   ]
  },
  {
   "cell_type": "code",
   "execution_count": 12,
   "id": "e8874de5-16dd-4195-ba49-5edb8cee08fb",
   "metadata": {},
   "outputs": [
    {
     "data": {
      "text/plain": [
       "array([0.92452135, 0.93496124])"
      ]
     },
     "execution_count": 12,
     "metadata": {},
     "output_type": "execute_result"
    }
   ],
   "source": [
    "# CI AUC\n",
    "n_bootstraps = 1000\n",
    "rng_seed = 42  # control reproducibility\n",
    "bootstrapped_scores = []\n",
    "y_pred = outputs_ma\n",
    "y_test = labels_ma\n",
    "rng = np.random.RandomState(rng_seed)\n",
    "\n",
    "for i in range(n_bootstraps):\n",
    "    # bootstrap by sampling with replacement on the prediction indices\n",
    "    indices = rng.randint(0, len(y_pred), len(y_pred))\n",
    "    if len(np.unique(y_test[indices])) < 2:\n",
    "        # We need at least one positive and one negative sample for ROC AUC\n",
    "        # to be defined: reject the sample\n",
    "        continue\n",
    "\n",
    "    score = metrics.roc_auc_score(pd.DataFrame(y_test).iloc[indices][0].values, pd.DataFrame(y_pred).iloc[indices][0].values)\n",
    "    bootstrapped_scores.append(score)\n",
    "    # print(\"Bootstrap #{} ROC area: {:0.3f}\".format(i + 1, score))\n",
    "np.percentile(bootstrapped_scores, (2.5, 97.5))"
   ]
  },
  {
   "cell_type": "code",
   "execution_count": 13,
   "id": "185411ff-aecf-4b64-9a7e-e31662a813ea",
   "metadata": {},
   "outputs": [],
   "source": [
    "outputs_af = []\n",
    "labels_af = []\n",
    "idxs_af = []\n",
    "\n",
    "for batch in test_loader:\n",
    "    idx, inp1, inp2, label = batch\n",
    "    idx = idx.cpu().squeeze().detach().numpy()\n",
    "    idxs_af.append(idx)\n",
    "    \n",
    "    if torch.cuda.is_available():\n",
    "        inp1 = inp1.to('cuda')\n",
    "        inp2 = inp2.to('cuda')\n",
    "        label = label.to('cuda')\n",
    "\n",
    "    output = inf_af_model(inp1, inp2)\n",
    "    \n",
    "    output = output.cpu().squeeze().detach().numpy()\n",
    "    outputs_af.append(output)\n",
    "    label = label.cpu().squeeze().detach().numpy()\n",
    "    labels_af.append(label)\n",
    "\n",
    "idxs_af = np.concatenate(idxs_af).ravel()\n",
    "outputs_af = np.concatenate(outputs_af).ravel()\n",
    "labels_af = np.concatenate(labels_af).ravel()"
   ]
  },
  {
   "cell_type": "code",
   "execution_count": 14,
   "id": "5e43c04c-2a09-4971-b641-98cb42596ab4",
   "metadata": {},
   "outputs": [
    {
     "data": {
      "text/plain": [
       "array([0.9726338 , 0.97747442])"
      ]
     },
     "execution_count": 14,
     "metadata": {},
     "output_type": "execute_result"
    }
   ],
   "source": [
    "# CI AUC\n",
    "n_bootstraps = 1000\n",
    "rng_seed = 42  # control reproducibility\n",
    "bootstrapped_scores = []\n",
    "y_pred = outputs_af\n",
    "y_test = labels_af\n",
    "rng = np.random.RandomState(rng_seed)\n",
    "\n",
    "for i in range(n_bootstraps):\n",
    "    # bootstrap by sampling with replacement on the prediction indices\n",
    "    indices = rng.randint(0, len(y_pred), len(y_pred))\n",
    "    if len(np.unique(y_test[indices])) < 2:\n",
    "        # We need at least one positive and one negative sample for ROC AUC\n",
    "        # to be defined: reject the sample\n",
    "        continue\n",
    "\n",
    "    score = metrics.roc_auc_score(pd.DataFrame(y_test).iloc[indices][0].values, pd.DataFrame(y_pred).iloc[indices][0].values)\n",
    "    bootstrapped_scores.append(score)\n",
    "    # print(\"Bootstrap #{} ROC area: {:0.3f}\".format(i + 1, score))\n",
    "np.percentile(bootstrapped_scores, (2.5, 97.5))"
   ]
  },
  {
   "cell_type": "code",
   "execution_count": 15,
   "id": "702f831b-423a-466a-9ffb-5ccc8843b71b",
   "metadata": {},
   "outputs": [],
   "source": [
    "outputs_fm = []\n",
    "labels_fm = []\n",
    "idxs_fm = []\n",
    "\n",
    "for batch in test_loader:\n",
    "    idx, inp1, inp2, label = batch\n",
    "    idx = idx.cpu().squeeze().detach().numpy()\n",
    "    idxs_fm.append(idx)\n",
    "    \n",
    "    if torch.cuda.is_available():\n",
    "        inp1 = inp1.to('cuda')\n",
    "        inp2 = inp2.to('cuda')\n",
    "        label = label.to('cuda')\n",
    "\n",
    "    output = inf_fm_model(inp1, inp2)\n",
    "    \n",
    "    output = output.cpu().squeeze().detach().numpy()\n",
    "    outputs_fm.append(output)\n",
    "    label = label.cpu().squeeze().detach().numpy()\n",
    "    labels_fm.append(label)\n",
    "\n",
    "idxs_fm = np.concatenate(idxs_fm).ravel()\n",
    "outputs_fm = np.concatenate(outputs_fm).ravel()\n",
    "labels_fm = np.concatenate(labels_fm).ravel()"
   ]
  },
  {
   "cell_type": "code",
   "execution_count": 16,
   "id": "46a14b60-60d0-4936-8b43-9e9c134c47c6",
   "metadata": {},
   "outputs": [
    {
     "data": {
      "text/plain": [
       "array([0.85294869, 0.86963173])"
      ]
     },
     "execution_count": 16,
     "metadata": {},
     "output_type": "execute_result"
    }
   ],
   "source": [
    "# CI AUC\n",
    "n_bootstraps = 1000\n",
    "rng_seed = 42  # control reproducibility\n",
    "bootstrapped_scores = []\n",
    "y_pred = outputs_fm\n",
    "y_test = labels_fm\n",
    "rng = np.random.RandomState(rng_seed)\n",
    "\n",
    "for i in range(n_bootstraps):\n",
    "    # bootstrap by sampling with replacement on the prediction indices\n",
    "    indices = rng.randint(0, len(y_pred), len(y_pred))\n",
    "    if len(np.unique(y_test[indices])) < 2:\n",
    "        # We need at least one positive and one negative sample for ROC AUC\n",
    "        # to be defined: reject the sample\n",
    "        continue\n",
    "\n",
    "    score = metrics.roc_auc_score(pd.DataFrame(y_test).iloc[indices][0].values, pd.DataFrame(y_pred).iloc[indices][0].values)\n",
    "    bootstrapped_scores.append(score)\n",
    "    # print(\"Bootstrap #{} ROC area: {:0.3f}\".format(i + 1, score))\n",
    "np.percentile(bootstrapped_scores, (2.5, 97.5))"
   ]
  },
  {
   "cell_type": "code",
   "execution_count": 17,
   "id": "bd659ccd",
   "metadata": {},
   "outputs": [
    {
     "data": {
      "text/plain": [
       "array([40167, 27502, 43894, ..., 19214,  6257, 16593])"
      ]
     },
     "execution_count": 17,
     "metadata": {},
     "output_type": "execute_result"
    }
   ],
   "source": [
    "idxs_fm"
   ]
  },
  {
   "cell_type": "code",
   "execution_count": 18,
   "id": "cb77143e-8e6b-43eb-95ab-fe1af76327b2",
   "metadata": {},
   "outputs": [
    {
     "data": {
      "text/plain": [
       "array([40167, 27502, 43894, ..., 19214,  6257, 16593])"
      ]
     },
     "execution_count": 18,
     "metadata": {},
     "output_type": "execute_result"
    }
   ],
   "source": [
    "idxs_ma"
   ]
  },
  {
   "cell_type": "code",
   "execution_count": 19,
   "id": "7db09f57-2e05-4446-a724-44f662029fb0",
   "metadata": {},
   "outputs": [
    {
     "data": {
      "text/plain": [
       "array([40167, 27502, 43894, ..., 19214,  6257, 16593])"
      ]
     },
     "execution_count": 19,
     "metadata": {},
     "output_type": "execute_result"
    }
   ],
   "source": [
    "idxs_af"
   ]
  },
  {
   "cell_type": "code",
   "execution_count": 20,
   "id": "37af7730",
   "metadata": {},
   "outputs": [
    {
     "data": {
      "text/plain": [
       "array([0.06243997, 0.12693729, 0.04425233, ..., 0.36957744, 0.827567  ,\n",
       "       0.14013109], dtype=float32)"
      ]
     },
     "execution_count": 20,
     "metadata": {},
     "output_type": "execute_result"
    }
   ],
   "source": [
    "outputs_ma"
   ]
  },
  {
   "cell_type": "code",
   "execution_count": 21,
   "id": "0564e996-4605-4e6d-a83c-3ba986e70df2",
   "metadata": {},
   "outputs": [
    {
     "data": {
      "text/plain": [
       "array([0.03365048, 0.04300292, 0.0851778 , ..., 0.04752684, 0.9321163 ,\n",
       "       0.04937855], dtype=float32)"
      ]
     },
     "execution_count": 21,
     "metadata": {},
     "output_type": "execute_result"
    }
   ],
   "source": [
    "outputs_af"
   ]
  },
  {
   "cell_type": "code",
   "execution_count": 22,
   "id": "54fc1a4e-5c61-45db-96ad-d0ecbcb22a58",
   "metadata": {},
   "outputs": [
    {
     "data": {
      "text/plain": [
       "array([0.3656394 , 0.05604987, 0.1593904 , ..., 0.35692006, 0.6662433 ,\n",
       "       0.06320378], dtype=float32)"
      ]
     },
     "execution_count": 22,
     "metadata": {},
     "output_type": "execute_result"
    }
   ],
   "source": [
    "outputs_fm"
   ]
  },
  {
   "cell_type": "code",
   "execution_count": 23,
   "id": "5af56af8",
   "metadata": {},
   "outputs": [
    {
     "data": {
      "text/plain": [
       "array([0., 0., 0., ..., 0., 1., 0.], dtype=float32)"
      ]
     },
     "execution_count": 23,
     "metadata": {},
     "output_type": "execute_result"
    }
   ],
   "source": [
    "labels_ma"
   ]
  },
  {
   "cell_type": "code",
   "execution_count": 24,
   "id": "68e6d62f-2571-415d-a144-14fbec5fe4f0",
   "metadata": {},
   "outputs": [
    {
     "data": {
      "text/plain": [
       "array([0., 0., 0., ..., 0., 1., 0.], dtype=float32)"
      ]
     },
     "execution_count": 24,
     "metadata": {},
     "output_type": "execute_result"
    }
   ],
   "source": [
    "labels_af"
   ]
  },
  {
   "cell_type": "code",
   "execution_count": 25,
   "id": "cc8bee0d-1719-484a-818b-c8f097fc58ac",
   "metadata": {},
   "outputs": [
    {
     "data": {
      "text/plain": [
       "array([0., 0., 0., ..., 0., 1., 0.], dtype=float32)"
      ]
     },
     "execution_count": 25,
     "metadata": {},
     "output_type": "execute_result"
    }
   ],
   "source": [
    "labels_fm"
   ]
  },
  {
   "cell_type": "code",
   "execution_count": 26,
   "id": "32f357cc-20db-46a2-a55f-e7cc9469b1f1",
   "metadata": {},
   "outputs": [
    {
     "name": "stdout",
     "output_type": "stream",
     "text": [
      "11880 11880\n"
     ]
    }
   ],
   "source": [
    "print(sum(idxs_fm == idxs_ma), len(idxs_fm))"
   ]
  },
  {
   "cell_type": "code",
   "execution_count": 27,
   "id": "7529f159-054d-4454-ad9a-9c07c188f970",
   "metadata": {},
   "outputs": [],
   "source": [
    "with open('./visualization/fcn_preds_cohort_spec_ma.pkl', 'wb') as wfile:\n",
    "    pickle.dump(outputs_ma, wfile)\n",
    "with open('./visualization/fcn_preds_cohort_spec_af.pkl', 'wb') as wfile:\n",
    "    pickle.dump(outputs_af, wfile)\n",
    "with open('./visualization/fcn_preds_cohort_spec_fm.pkl', 'wb') as wfile:\n",
    "    pickle.dump(outputs_fm, wfile)\n",
    "with open('./visualization/fcn_gt_labels_cohort_spec.pkl', 'wb') as wfile:\n",
    "    pickle.dump(labels_af, wfile)"
   ]
  },
  {
   "cell_type": "code",
   "execution_count": 28,
   "id": "5dafa438",
   "metadata": {
    "tags": []
   },
   "outputs": [
    {
     "data": {
      "image/png": "[encoded data removed]",
      "text/plain": [
       "<Figure size 640x480 with 1 Axes>"
      ]
     },
     "metadata": {},
     "output_type": "display_data"
    }
   ],
   "source": [
    "from sklearn import metrics\n",
    "\n",
    "fpr_ma, tpr_ma, _ = metrics.roc_curve(labels_ma, outputs_ma)\n",
    "fpr_af, tpr_af, _ = metrics.roc_curve(labels_af, outputs_af)\n",
    "fpr_fm, tpr_fm, _ = metrics.roc_curve(labels_fm, outputs_fm)\n",
    "\n",
    "auc_ma = metrics.roc_auc_score(labels_ma, outputs_ma)\n",
    "auc_af = metrics.roc_auc_score(labels_af, outputs_af)\n",
    "auc_fm = metrics.roc_auc_score(labels_fm, outputs_fm)\n",
    "\n",
    "plt.plot(fpr_ma, tpr_ma, label=\"AUC (MA)=\"+str(np.round(auc_ma, 4)))\n",
    "plt.plot(fpr_af, tpr_af, label=\"AUC (AF)=\"+str(np.round(auc_af, 4)))\n",
    "plt.plot(fpr_fm, tpr_fm, label=\"AUC (FM)=\"+str(np.round(auc_fm, 4)))\n",
    "plt.ylabel('True Positive Rate')\n",
    "plt.xlabel('False Positive Rate')\n",
    "plt.title('Model #5: Two-Layer NN w/o dropout (w/ Cohort Specific Dataset)')\n",
    "plt.legend(loc=4)\n",
    "plt.show()"
   ]
  },
  {
   "cell_type": "code",
   "execution_count": 29,
   "id": "c6c0b818",
   "metadata": {},
   "outputs": [
    {
     "data": {
      "text/plain": [
       "(11880, 13)"
      ]
     },
     "execution_count": 29,
     "metadata": {},
     "output_type": "execute_result"
    }
   ],
   "source": [
    "inf_df = test[test['idx'].isin(idxs_ma)]\n",
    "inf_preds = pd.DataFrame({\n",
    "    \"idx\": idxs_ma,\n",
    "    \"match\": labels_ma,\n",
    "    \"predict_proba_ma\": outputs_ma,\n",
    "    \"predict_proba_af\": outputs_af,\n",
    "    \"predict_proba_fm\": outputs_fm\n",
    "})\n",
    "inf_df = inf_df.merge(inf_preds, on=['idx', 'match'], how='inner')\n",
    "inf_df.shape"
   ]
  },
  {
   "cell_type": "code",
   "execution_count": 30,
   "id": "25bb4d96-90ee-4b97-a2e7-03e2b6b1e4d1",
   "metadata": {},
   "outputs": [
    {
     "name": "stdout",
     "output_type": "stream",
     "text": [
      "(331, 13) (2244, 13) (2029, 13)\n"
     ]
    }
   ],
   "source": [
    "inf_df_m = inf_df[(inf_df['study_1'] == 'MESA') & (inf_df['study_2'] == 'MESA')]\n",
    "inf_df_a = inf_df[(inf_df['study_1'] == 'ARIC') & (inf_df['study_2'] == 'ARIC')]\n",
    "inf_df_f = inf_df[(inf_df['study_1'] == 'Framingham') & (inf_df['study_2'] == 'Framingham')]\n",
    "print(inf_df_m.shape, inf_df_a.shape, inf_df_f.shape)"
   ]
  },
  {
   "cell_type": "code",
   "execution_count": 31,
   "id": "c870e871-25aa-4616-a730-182f502f455b",
   "metadata": {},
   "outputs": [],
   "source": [
    "outputs_ma_excl = inf_df_f['predict_proba_ma'].to_list()\n",
    "labels_ma_excl = inf_df_f['match'].to_list()\n",
    "outputs_af_excl = inf_df_m['predict_proba_af'].to_list()\n",
    "labels_af_excl = inf_df_m['match'].to_list()\n",
    "outputs_fm_excl = inf_df_a['predict_proba_fm'].to_list()\n",
    "labels_fm_excl = inf_df_a['match'].to_list()"
   ]
  },
  {
   "cell_type": "code",
   "execution_count": 32,
   "id": "4b6bb957-1ee7-4fde-be44-51bde61b3cfe",
   "metadata": {},
   "outputs": [],
   "source": [
    "with open('./visualization/fcn_preds_cohort_spec_ma_excl.pkl', 'wb') as wfile:\n",
    "    pickle.dump(outputs_ma_excl, wfile)\n",
    "with open('./visualization/fcn_gt_labels_cohort_spec_ma_excl.pkl', 'wb') as wfile:\n",
    "    pickle.dump(labels_ma_excl, wfile)\n",
    "with open('./visualization/fcn_preds_cohort_spec_af_excl.pkl', 'wb') as wfile:\n",
    "    pickle.dump(outputs_af_excl, wfile)\n",
    "with open('./visualization/fcn_gt_labels_cohort_spec_af_excl.pkl', 'wb') as wfile:\n",
    "    pickle.dump(labels_af_excl, wfile)\n",
    "with open('./visualization/fcn_preds_cohort_spec_fm_excl.pkl', 'wb') as wfile:\n",
    "    pickle.dump(outputs_fm_excl, wfile)\n",
    "with open('./visualization/fcn_gt_labels_cohort_spec_fm_excl.pkl', 'wb') as wfile:\n",
    "    pickle.dump(labels_fm_excl, wfile)"
   ]
  },
  {
   "cell_type": "code",
   "execution_count": 33,
   "id": "18eaf543-0435-44e3-a288-ecdbee15783d",
   "metadata": {},
   "outputs": [
    {
     "data": {
      "text/plain": [
       "array([0.73843191, 0.83540153])"
      ]
     },
     "execution_count": 33,
     "metadata": {},
     "output_type": "execute_result"
    }
   ],
   "source": [
    "# CI AUC\n",
    "n_bootstraps = 1000\n",
    "rng_seed = 42  # control reproducibility\n",
    "bootstrapped_scores = []\n",
    "y_pred = np.array(outputs_af_excl)\n",
    "y_test = np.array(labels_af_excl)\n",
    "rng = np.random.RandomState(rng_seed)\n",
    "\n",
    "for i in range(n_bootstraps):\n",
    "    # bootstrap by sampling with replacement on the prediction indices\n",
    "    indices = rng.randint(0, len(y_pred), len(y_pred))\n",
    "    if len(np.unique(y_test[indices])) < 2:\n",
    "        # We need at least one positive and one negative sample for ROC AUC\n",
    "        # to be defined: reject the sample\n",
    "        continue\n",
    "\n",
    "    score = metrics.roc_auc_score(pd.DataFrame(y_test).iloc[indices][0].values, pd.DataFrame(y_pred).iloc[indices][0].values)\n",
    "    bootstrapped_scores.append(score)\n",
    "    # print(\"Bootstrap #{} ROC area: {:0.3f}\".format(i + 1, score))\n",
    "np.percentile(bootstrapped_scores, (2.5, 97.5))"
   ]
  },
  {
   "cell_type": "code",
   "execution_count": 34,
   "id": "9edb4ea6-c4cf-4cb4-9d51-8cfcd97d60de",
   "metadata": {},
   "outputs": [
    {
     "data": {
      "text/plain": [
       "array([0.8169812 , 0.85130112])"
      ]
     },
     "execution_count": 34,
     "metadata": {},
     "output_type": "execute_result"
    }
   ],
   "source": [
    "# CI AUC\n",
    "n_bootstraps = 1000\n",
    "rng_seed = 42  # control reproducibility\n",
    "bootstrapped_scores = []\n",
    "y_pred = np.array(outputs_fm_excl)\n",
    "y_test = np.array(labels_fm_excl)\n",
    "rng = np.random.RandomState(rng_seed)\n",
    "\n",
    "for i in range(n_bootstraps):\n",
    "    # bootstrap by sampling with replacement on the prediction indices\n",
    "    indices = rng.randint(0, len(y_pred), len(y_pred))\n",
    "    if len(np.unique(y_test[indices])) < 2:\n",
    "        # We need at least one positive and one negative sample for ROC AUC\n",
    "        # to be defined: reject the sample\n",
    "        continue\n",
    "\n",
    "    score = metrics.roc_auc_score(pd.DataFrame(y_test).iloc[indices][0].values, pd.DataFrame(y_pred).iloc[indices][0].values)\n",
    "    bootstrapped_scores.append(score)\n",
    "    # print(\"Bootstrap #{} ROC area: {:0.3f}\".format(i + 1, score))\n",
    "np.percentile(bootstrapped_scores, (2.5, 97.5))"
   ]
  },
  {
   "cell_type": "code",
   "execution_count": 35,
   "id": "caf90ff9-f378-4e2f-af5e-63f1c2502093",
   "metadata": {},
   "outputs": [
    {
     "data": {
      "text/plain": [
       "array([0.8380501 , 0.87515128])"
      ]
     },
     "execution_count": 35,
     "metadata": {},
     "output_type": "execute_result"
    }
   ],
   "source": [
    "# CI AUC\n",
    "n_bootstraps = 1000\n",
    "rng_seed = 42  # control reproducibility\n",
    "bootstrapped_scores = []\n",
    "y_pred = np.array(outputs_ma_excl)\n",
    "y_test = np.array(labels_ma_excl)\n",
    "rng = np.random.RandomState(rng_seed)\n",
    "\n",
    "for i in range(n_bootstraps):\n",
    "    # bootstrap by sampling with replacement on the prediction indices\n",
    "    indices = rng.randint(0, len(y_pred), len(y_pred))\n",
    "    if len(np.unique(y_test[indices])) < 2:\n",
    "        # We need at least one positive and one negative sample for ROC AUC\n",
    "        # to be defined: reject the sample\n",
    "        continue\n",
    "\n",
    "    score = metrics.roc_auc_score(pd.DataFrame(y_test).iloc[indices][0].values, pd.DataFrame(y_pred).iloc[indices][0].values)\n",
    "    bootstrapped_scores.append(score)\n",
    "    # print(\"Bootstrap #{} ROC area: {:0.3f}\".format(i + 1, score))\n",
    "np.percentile(bootstrapped_scores, (2.5, 97.5))"
   ]
  },
  {
   "cell_type": "code",
   "execution_count": 36,
   "id": "db28900e-204f-474e-b2f4-19b245eee22d",
   "metadata": {},
   "outputs": [
    {
     "data": {
      "text/plain": [
       "array([0.97791045, 0.98214109])"
      ]
     },
     "execution_count": 36,
     "metadata": {},
     "output_type": "execute_result"
    }
   ],
   "source": [
    "# CI AUC\n",
    "n_bootstraps = 1000\n",
    "rng_seed = 42  # control reproducibility\n",
    "bootstrapped_scores = []\n",
    "y_pred = np.mean([outputs_af, outputs_fm, outputs_ma], axis=0)\n",
    "y_test = np.mean([labels_af, labels_fm, labels_ma], axis=0)\n",
    "rng = np.random.RandomState(rng_seed)\n",
    "\n",
    "for i in range(n_bootstraps):\n",
    "    # bootstrap by sampling with replacement on the prediction indices\n",
    "    indices = rng.randint(0, len(y_pred), len(y_pred))\n",
    "    if len(np.unique(y_test[indices])) < 2:\n",
    "        # We need at least one positive and one negative sample for ROC AUC\n",
    "        # to be defined: reject the sample\n",
    "        continue\n",
    "\n",
    "    score = metrics.roc_auc_score(pd.DataFrame(y_test).iloc[indices][0].values, pd.DataFrame(y_pred).iloc[indices][0].values)\n",
    "    bootstrapped_scores.append(score)\n",
    "    # print(\"Bootstrap #{} ROC area: {:0.3f}\".format(i + 1, score))\n",
    "np.percentile(bootstrapped_scores, (2.5, 97.5))"
   ]
  },
  {
   "cell_type": "code",
   "execution_count": 37,
   "id": "8e46cc4c-8ffc-4b17-b270-3796baccde14",
   "metadata": {},
   "outputs": [
    {
     "data": {
      "image/png": "[encoded data removed]",
      "text/plain": [
       "<Figure size 640x480 with 1 Axes>"
      ]
     },
     "metadata": {},
     "output_type": "display_data"
    }
   ],
   "source": [
    "fpr_ma_excl, tpr_ma_excl, _ = metrics.roc_curve(labels_ma_excl, outputs_ma_excl)\n",
    "fpr_af_excl, tpr_af_excl, _ = metrics.roc_curve(labels_af_excl, outputs_af_excl)\n",
    "fpr_fm_excl, tpr_fm_excl, _ = metrics.roc_curve(labels_fm_excl, outputs_fm_excl)\n",
    "\n",
    "auc_ma_excl = metrics.roc_auc_score(labels_ma_excl, outputs_ma_excl)\n",
    "auc_af_excl = metrics.roc_auc_score(labels_af_excl, outputs_af_excl)\n",
    "auc_fm_excl = metrics.roc_auc_score(labels_fm_excl, outputs_fm_excl)\n",
    "\n",
    "plt.plot(fpr_ma_excl, tpr_ma_excl, label=\"AUC (MA-excluded)=\"+str(np.round(auc_ma_excl, 4)))\n",
    "plt.plot(fpr_af_excl, tpr_af_excl, label=\"AUC (AF-excluded)=\"+str(np.round(auc_af_excl, 4)))\n",
    "plt.plot(fpr_fm_excl, tpr_fm_excl, label=\"AUC (FM-excluded)=\"+str(np.round(auc_fm_excl, 4)))\n",
    "plt.ylabel('True Positive Rate')\n",
    "plt.xlabel('False Positive Rate')\n",
    "plt.title('Model #5: Two-Layer NN w/o dropout (w/ Cohort Specific Dataset - Excluded Version)')\n",
    "plt.legend(loc=4)\n",
    "plt.show()"
   ]
  },
  {
   "cell_type": "code",
   "execution_count": 38,
   "id": "0b1bd778",
   "metadata": {
    "tags": []
   },
   "outputs": [
    {
     "name": "stdout",
     "output_type": "stream",
     "text": [
      "------------------------\n",
      "AFIB :  318\n",
      "AUC for AFIB  :  0.9664457332228666\n",
      "------------------------\n",
      "AGE :  321\n",
      "AUC for AGE  :  1.0\n",
      "------------------------\n",
      "ALCOHOL :  249\n",
      "AUC for ALCOHOL  :  1.0\n",
      "------------------------\n",
      "ANYCHOLMED :  1181\n",
      "AUC for ANYCHOLMED  :  0.9590534896186248\n",
      "------------------------\n",
      "ASPIRIN :  439\n",
      "AUC for ASPIRIN  :  0.8927868571917514\n",
      "------------------------\n",
      "BASE_CVD :  92\n",
      "AUC for BASE_CVD  :  0.9888888888888889\n",
      "------------------------\n",
      "BASE_STROKE :  84\n",
      "AUC for BASE_STROKE  :  0.99375\n",
      "------------------------\n",
      "BG :  136\n",
      "AUC for BG  :  1.0\n",
      "------------------------\n",
      "BMI :  237\n",
      "AUC for BMI  :  0.9996684350132626\n",
      "------------------------\n",
      "CARSTEN :  115\n",
      "AUC for CARSTEN  :  0.9933862433862435\n",
      "------------------------\n",
      "CENSDAY :  51\n",
      "AUC for CENSDAY  :  0.9791666666666667\n",
      "------------------------\n",
      "CREAT :  183\n",
      "AUC for CREAT  :  1.0\n",
      "------------------------\n",
      "CURRSMK :  341\n",
      "AUC for CURRSMK  :  1.0\n",
      "------------------------\n",
      "DEATH_IND :  50\n",
      "AUC for DEATH_IND  :  0.7551020408163265\n",
      "------------------------\n",
      "DIAB :  318\n",
      "AUC for DIAB  :  0.9994089834515366\n",
      "------------------------\n",
      "DIABP :  108\n",
      "AUC for DIABP  :  0.9957567185289957\n",
      "------------------------\n",
      "DIABP1 :  136\n",
      "AUC for DIABP1  :  1.0\n",
      "------------------------\n",
      "DIABP2 :  134\n",
      "AUC for DIABP2  :  1.0\n",
      "------------------------\n",
      "EDUCLEV :  48\n",
      "AUC for EDUCLEV  :  1.0\n",
      "------------------------\n",
      "EVENT_DESC :  28\n",
      "AUC for EVENT_DESC  :  0.14814814814814814\n",
      "------------------------\n",
      "EVENT_T2_O :  121\n",
      "AUC for EVENT_T2_O  :  0.9946483180428134\n",
      "------------------------\n",
      "EVENT_VAL_C :  140\n",
      "AUC for EVENT_VAL_C  :  0.98\n",
      "------------------------\n",
      "FAM_INCOME :  57\n",
      "AUC for FAM_INCOME  :  0.9818181818181818\n",
      "------------------------\n",
      "FASTING_12HR :  42\n",
      "AUC for FASTING_12HR  :  1.0\n",
      "------------------------\n",
      "FASTING_8HR :  49\n",
      "AUC for FASTING_8HR  :  1.0\n",
      "------------------------\n",
      "FASTING_BG :  160\n",
      "AUC for FASTING_BG  :  0.9966216216216217\n",
      "------------------------\n",
      "FH_STROKE :  59\n",
      "AUC for FH_STROKE  :  0.994047619047619\n",
      "------------------------\n",
      "FRUITS :  914\n",
      "AUC for FRUITS  :  0.9997895139686185\n",
      "------------------------\n",
      "GENHLTH2 :  62\n",
      "AUC for GENHLTH2  :  0.9717514124293785\n",
      "------------------------\n",
      "GLUCOSE :  89\n",
      "AUC for GLUCOSE  :  0.9919678714859438\n",
      "------------------------\n",
      "HDL :  298\n",
      "AUC for HDL  :  0.9990334662317265\n",
      "------------------------\n",
      "HGT_CM :  197\n",
      "AUC for HGT_CM  :  0.9994805194805195\n",
      "------------------------\n",
      "HRX :  284\n",
      "AUC for HRX  :  1.0\n",
      "------------------------\n",
      "HXCVD :  893\n",
      "AUC for HXCVD  :  0.9349546789225073\n",
      "------------------------\n",
      "HXHRTD :  1210\n",
      "AUC for HXHRTD  :  0.9483931284328619\n",
      "------------------------\n",
      "HXMI :  627\n",
      "AUC for HXMI  :  0.9494486445846038\n",
      "------------------------\n",
      "HYPT :  77\n",
      "AUC for HYPT  :  0.863013698630137\n",
      "------------------------\n",
      "INSULIN :  4595\n",
      "AUC for INSULIN  :  0.9888374224822772\n",
      "------------------------\n",
      "LDL :  94\n",
      "AUC for LDL  :  0.9983579638752053\n",
      "------------------------\n",
      "LVH :  206\n",
      "AUC for LVH  :  0.9996279761904762\n",
      "------------------------\n",
      "MESAID :  37\n",
      "AUC for MESAID  :  1.0\n",
      "------------------------\n",
      "NONSTATIN :  786\n",
      "AUC for NONSTATIN  :  0.9421245848144048\n",
      "------------------------\n",
      "SEX_C :  51\n",
      "AUC for SEX_C  :  0.98\n",
      "------------------------\n",
      "SODIUM :  42\n",
      "AUC for SODIUM  :  1.0\n",
      "------------------------\n",
      "STATE :  38\n",
      "AUC for STATE  :  0.9729729729729729\n",
      "------------------------\n",
      "STATIN :  1024\n",
      "AUC for STATIN  :  0.9734107353188626\n",
      "------------------------\n",
      "STATNONSTAT :  68\n",
      "AUC for STATNONSTAT  :  0.7575757575757576\n",
      "------------------------\n",
      "SYSBP :  86\n",
      "AUC for SYSBP  :  0.988235294117647\n",
      "------------------------\n",
      "SYSBP1 :  143\n",
      "AUC for SYSBP1  :  1.0\n",
      "------------------------\n",
      "SYSBP2 :  134\n",
      "AUC for SYSBP2  :  1.0\n",
      "------------------------\n",
      "TC :  250\n",
      "AUC for TC  :  1.0\n",
      "------------------------\n",
      "TRIG :  275\n",
      "AUC for TRIG  :  1.0\n",
      "------------------------\n",
      "VALVDIS :  159\n",
      "AUC for VALVDIS  :  0.9926174496644296\n",
      "------------------------\n",
      "VEGETABLES :  1980\n",
      "AUC for VEGETABLES  :  1.0\n",
      "------------------------\n",
      "VISDAY :  228\n",
      "AUC for VISDAY  :  0.9260180578588538\n",
      "------------------------\n",
      "WGT :  233\n",
      "AUC for WGT  :  0.9978425026968716\n",
      "------------------------\n",
      "DAYS_SINCE_EXAM1 :  10\n",
      "Only single class present\n",
      "------------------------\n",
      "EVENT :  21\n",
      "Only single class present\n",
      "------------------------\n",
      "GENHLTH :  37\n",
      "Only single class present\n",
      "------------------------\n",
      "ID_C :  27\n",
      "Only single class present\n",
      "------------------------\n",
      "SEX_N :  48\n",
      "Only single class present\n"
     ]
    }
   ],
   "source": [
    "# per-concept AUC\n",
    "concepts = inf_df.concept_name_1.unique()\n",
    "mauc_ovr = {}\n",
    "pc_aucs = []\n",
    "pc_aucs_af = []\n",
    "pc_aucs_fm = []\n",
    "pc_aucs_ma = []\n",
    "for concept in concepts:\n",
    "    print(\"------------------------\")\n",
    "    \n",
    "    inf_df_concept = inf_df[(inf_df['concept_name_1'] == concept) | (inf_df['concept_name_2'] == concept)]\n",
    "    print(concept, \": \", inf_df_concept.shape[0])\n",
    "    \n",
    "    preds = inf_df_concept[['predict_proba_ma', 'predict_proba_af', 'predict_proba_fm']].mean(axis=1).to_list()\n",
    "    preds_af = inf_df_concept.predict_proba_af.to_list()\n",
    "    preds_fm = inf_df_concept.predict_proba_fm.to_list()\n",
    "    preds_ma = inf_df_concept.predict_proba_ma.to_list()\n",
    "\n",
    "    gt_labels = inf_df_concept.match.to_list()\n",
    "    \n",
    "    if len(inf_df_concept.match.unique()) == 1:\n",
    "        print(\"Only single class present\")\n",
    "        continue\n",
    "    fpr, tpr, _ = metrics.roc_curve(gt_labels, preds)\n",
    "    mauc_ovr[concept] = metrics.roc_auc_score(gt_labels, preds)\n",
    "    pc_aucs.append(metrics.roc_auc_score(gt_labels, preds))\n",
    "    \n",
    "    pc_aucs_af.append(metrics.roc_auc_score(gt_labels, preds_af))\n",
    "    pc_aucs_fm.append(metrics.roc_auc_score(gt_labels, preds_fm))\n",
    "    pc_aucs_ma.append(metrics.roc_auc_score(gt_labels, preds_ma))\n",
    "    \n",
    "    print(\"AUC for\", concept, \" : \", mauc_ovr[concept])"
   ]
  },
  {
   "cell_type": "code",
   "execution_count": 39,
   "id": "30574615-74de-4838-83d8-82cd6a543f12",
   "metadata": {},
   "outputs": [
    {
     "data": {
      "text/html": [
       "<div>\n",
       "<style scoped>\n",
       "    .dataframe tbody tr th:only-of-type {\n",
       "        vertical-align: middle;\n",
       "    }\n",
       "\n",
       "    .dataframe tbody tr th {\n",
       "        vertical-align: top;\n",
       "    }\n",
       "\n",
       "    .dataframe thead th {\n",
       "        text-align: right;\n",
       "    }\n",
       "</style>\n",
       "<table border=\"1\" class=\"dataframe\">\n",
       "  <thead>\n",
       "    <tr style=\"text-align: right;\">\n",
       "      <th></th>\n",
       "      <th>0</th>\n",
       "    </tr>\n",
       "  </thead>\n",
       "  <tbody>\n",
       "    <tr>\n",
       "      <th>count</th>\n",
       "      <td>56.000000</td>\n",
       "    </tr>\n",
       "    <tr>\n",
       "      <th>mean</th>\n",
       "      <td>0.960610</td>\n",
       "    </tr>\n",
       "    <tr>\n",
       "      <th>std</th>\n",
       "      <td>0.121605</td>\n",
       "    </tr>\n",
       "    <tr>\n",
       "      <th>min</th>\n",
       "      <td>0.148148</td>\n",
       "    </tr>\n",
       "    <tr>\n",
       "      <th>25%</th>\n",
       "      <td>0.973301</td>\n",
       "    </tr>\n",
       "    <tr>\n",
       "      <th>50%</th>\n",
       "      <td>0.995203</td>\n",
       "    </tr>\n",
       "    <tr>\n",
       "      <th>75%</th>\n",
       "      <td>1.000000</td>\n",
       "    </tr>\n",
       "    <tr>\n",
       "      <th>max</th>\n",
       "      <td>1.000000</td>\n",
       "    </tr>\n",
       "  </tbody>\n",
       "</table>\n",
       "</div>"
      ],
      "text/plain": [
       "               0\n",
       "count  56.000000\n",
       "mean    0.960610\n",
       "std     0.121605\n",
       "min     0.148148\n",
       "25%     0.973301\n",
       "50%     0.995203\n",
       "75%     1.000000\n",
       "max     1.000000"
      ]
     },
     "execution_count": 39,
     "metadata": {},
     "output_type": "execute_result"
    }
   ],
   "source": [
    "pd.DataFrame(pc_aucs).describe()"
   ]
  },
  {
   "cell_type": "code",
   "execution_count": 40,
   "id": "7723e614-ecbd-4fde-b19d-bde5ca1e4d3b",
   "metadata": {},
   "outputs": [
    {
     "data": {
      "text/html": [
       "<div>\n",
       "<style scoped>\n",
       "    .dataframe tbody tr th:only-of-type {\n",
       "        vertical-align: middle;\n",
       "    }\n",
       "\n",
       "    .dataframe tbody tr th {\n",
       "        vertical-align: top;\n",
       "    }\n",
       "\n",
       "    .dataframe thead th {\n",
       "        text-align: right;\n",
       "    }\n",
       "</style>\n",
       "<table border=\"1\" class=\"dataframe\">\n",
       "  <thead>\n",
       "    <tr style=\"text-align: right;\">\n",
       "      <th></th>\n",
       "      <th>0</th>\n",
       "    </tr>\n",
       "  </thead>\n",
       "  <tbody>\n",
       "    <tr>\n",
       "      <th>count</th>\n",
       "      <td>56.000000</td>\n",
       "    </tr>\n",
       "    <tr>\n",
       "      <th>mean</th>\n",
       "      <td>0.944605</td>\n",
       "    </tr>\n",
       "    <tr>\n",
       "      <th>std</th>\n",
       "      <td>0.106899</td>\n",
       "    </tr>\n",
       "    <tr>\n",
       "      <th>min</th>\n",
       "      <td>0.378378</td>\n",
       "    </tr>\n",
       "    <tr>\n",
       "      <th>25%</th>\n",
       "      <td>0.929445</td>\n",
       "    </tr>\n",
       "    <tr>\n",
       "      <th>50%</th>\n",
       "      <td>0.990347</td>\n",
       "    </tr>\n",
       "    <tr>\n",
       "      <th>75%</th>\n",
       "      <td>0.999822</td>\n",
       "    </tr>\n",
       "    <tr>\n",
       "      <th>max</th>\n",
       "      <td>1.000000</td>\n",
       "    </tr>\n",
       "  </tbody>\n",
       "</table>\n",
       "</div>"
      ],
      "text/plain": [
       "               0\n",
       "count  56.000000\n",
       "mean    0.944605\n",
       "std     0.106899\n",
       "min     0.378378\n",
       "25%     0.929445\n",
       "50%     0.990347\n",
       "75%     0.999822\n",
       "max     1.000000"
      ]
     },
     "execution_count": 40,
     "metadata": {},
     "output_type": "execute_result"
    }
   ],
   "source": [
    "pd.DataFrame(pc_aucs_af).describe()"
   ]
  },
  {
   "cell_type": "code",
   "execution_count": 41,
   "id": "82af700a-a96e-4b2e-bb3e-bdff450180b4",
   "metadata": {},
   "outputs": [
    {
     "data": {
      "text/html": [
       "<div>\n",
       "<style scoped>\n",
       "    .dataframe tbody tr th:only-of-type {\n",
       "        vertical-align: middle;\n",
       "    }\n",
       "\n",
       "    .dataframe tbody tr th {\n",
       "        vertical-align: top;\n",
       "    }\n",
       "\n",
       "    .dataframe thead th {\n",
       "        text-align: right;\n",
       "    }\n",
       "</style>\n",
       "<table border=\"1\" class=\"dataframe\">\n",
       "  <thead>\n",
       "    <tr style=\"text-align: right;\">\n",
       "      <th></th>\n",
       "      <th>0</th>\n",
       "    </tr>\n",
       "  </thead>\n",
       "  <tbody>\n",
       "    <tr>\n",
       "      <th>count</th>\n",
       "      <td>56.000000</td>\n",
       "    </tr>\n",
       "    <tr>\n",
       "      <th>mean</th>\n",
       "      <td>0.867304</td>\n",
       "    </tr>\n",
       "    <tr>\n",
       "      <th>std</th>\n",
       "      <td>0.187106</td>\n",
       "    </tr>\n",
       "    <tr>\n",
       "      <th>min</th>\n",
       "      <td>0.102041</td>\n",
       "    </tr>\n",
       "    <tr>\n",
       "      <th>25%</th>\n",
       "      <td>0.845739</td>\n",
       "    </tr>\n",
       "    <tr>\n",
       "      <th>50%</th>\n",
       "      <td>0.911639</td>\n",
       "    </tr>\n",
       "    <tr>\n",
       "      <th>75%</th>\n",
       "      <td>0.991347</td>\n",
       "    </tr>\n",
       "    <tr>\n",
       "      <th>max</th>\n",
       "      <td>1.000000</td>\n",
       "    </tr>\n",
       "  </tbody>\n",
       "</table>\n",
       "</div>"
      ],
      "text/plain": [
       "               0\n",
       "count  56.000000\n",
       "mean    0.867304\n",
       "std     0.187106\n",
       "min     0.102041\n",
       "25%     0.845739\n",
       "50%     0.911639\n",
       "75%     0.991347\n",
       "max     1.000000"
      ]
     },
     "execution_count": 41,
     "metadata": {},
     "output_type": "execute_result"
    }
   ],
   "source": [
    "pd.DataFrame(pc_aucs_fm).describe()"
   ]
  },
  {
   "cell_type": "code",
   "execution_count": 42,
   "id": "d570b318-38eb-4db2-a3ef-d724d3551b1f",
   "metadata": {},
   "outputs": [
    {
     "data": {
      "text/html": [
       "<div>\n",
       "<style scoped>\n",
       "    .dataframe tbody tr th:only-of-type {\n",
       "        vertical-align: middle;\n",
       "    }\n",
       "\n",
       "    .dataframe tbody tr th {\n",
       "        vertical-align: top;\n",
       "    }\n",
       "\n",
       "    .dataframe thead th {\n",
       "        text-align: right;\n",
       "    }\n",
       "</style>\n",
       "<table border=\"1\" class=\"dataframe\">\n",
       "  <thead>\n",
       "    <tr style=\"text-align: right;\">\n",
       "      <th></th>\n",
       "      <th>0</th>\n",
       "    </tr>\n",
       "  </thead>\n",
       "  <tbody>\n",
       "    <tr>\n",
       "      <th>count</th>\n",
       "      <td>56.000000</td>\n",
       "    </tr>\n",
       "    <tr>\n",
       "      <th>mean</th>\n",
       "      <td>0.934189</td>\n",
       "    </tr>\n",
       "    <tr>\n",
       "      <th>std</th>\n",
       "      <td>0.097261</td>\n",
       "    </tr>\n",
       "    <tr>\n",
       "      <th>min</th>\n",
       "      <td>0.518519</td>\n",
       "    </tr>\n",
       "    <tr>\n",
       "      <th>25%</th>\n",
       "      <td>0.911870</td>\n",
       "    </tr>\n",
       "    <tr>\n",
       "      <th>50%</th>\n",
       "      <td>0.974211</td>\n",
       "    </tr>\n",
       "    <tr>\n",
       "      <th>75%</th>\n",
       "      <td>0.997833</td>\n",
       "    </tr>\n",
       "    <tr>\n",
       "      <th>max</th>\n",
       "      <td>1.000000</td>\n",
       "    </tr>\n",
       "  </tbody>\n",
       "</table>\n",
       "</div>"
      ],
      "text/plain": [
       "               0\n",
       "count  56.000000\n",
       "mean    0.934189\n",
       "std     0.097261\n",
       "min     0.518519\n",
       "25%     0.911870\n",
       "50%     0.974211\n",
       "75%     0.997833\n",
       "max     1.000000"
      ]
     },
     "execution_count": 42,
     "metadata": {},
     "output_type": "execute_result"
    }
   ],
   "source": [
    "pd.DataFrame(pc_aucs_ma).describe()"
   ]
  },
  {
   "cell_type": "code",
   "execution_count": 43,
   "id": "f4b2790b-1c62-44c9-bf3b-0e1d8c947bab",
   "metadata": {},
   "outputs": [],
   "source": [
    "with open('./visualization/fcn_mauc_ovr_cohort_spec.pkl', 'wb') as wfile:\n",
    "    pickle.dump(mauc_ovr, wfile)"
   ]
  },
  {
   "cell_type": "code",
   "execution_count": 44,
   "id": "5c9605ba",
   "metadata": {
    "tags": []
   },
   "outputs": [
    {
     "data": {
      "text/html": [
       "<div>\n",
       "<style scoped>\n",
       "    .dataframe tbody tr th:only-of-type {\n",
       "        vertical-align: middle;\n",
       "    }\n",
       "\n",
       "    .dataframe tbody tr th {\n",
       "        vertical-align: top;\n",
       "    }\n",
       "\n",
       "    .dataframe thead th {\n",
       "        text-align: right;\n",
       "    }\n",
       "</style>\n",
       "<table border=\"1\" class=\"dataframe\">\n",
       "  <thead>\n",
       "    <tr style=\"text-align: right;\">\n",
       "      <th></th>\n",
       "      <th>variable_description_1</th>\n",
       "      <th>concept_name_1</th>\n",
       "      <th>variable_description_2</th>\n",
       "      <th>concept_name_2</th>\n",
       "      <th>match</th>\n",
       "      <th>predict_proba_ma</th>\n",
       "      <th>predict_proba_af</th>\n",
       "      <th>predict_proba_fm</th>\n",
       "    </tr>\n",
       "  </thead>\n",
       "  <tbody>\n",
       "    <tr>\n",
       "      <th>0</th>\n",
       "      <td>Atrial fibrillation</td>\n",
       "      <td>AFIB</td>\n",
       "      <td>time to incident af</td>\n",
       "      <td>AFIB</td>\n",
       "      <td>1</td>\n",
       "      <td>0.793215</td>\n",
       "      <td>0.893683</td>\n",
       "      <td>0.546107</td>\n",
       "    </tr>\n",
       "    <tr>\n",
       "      <th>1</th>\n",
       "      <td>Atrial fibrillation</td>\n",
       "      <td>AFIB</td>\n",
       "      <td>ATRIAL FIBRILLATION</td>\n",
       "      <td>AFIB</td>\n",
       "      <td>1</td>\n",
       "      <td>0.828124</td>\n",
       "      <td>0.934157</td>\n",
       "      <td>0.891936</td>\n",
       "    </tr>\n",
       "    <tr>\n",
       "      <th>2</th>\n",
       "      <td>Atrial fibrillation</td>\n",
       "      <td>AFIB</td>\n",
       "      <td>ECG-ATRIAL FIBRILLATION</td>\n",
       "      <td>AFIB</td>\n",
       "      <td>1</td>\n",
       "      <td>0.770019</td>\n",
       "      <td>0.909504</td>\n",
       "      <td>0.819112</td>\n",
       "    </tr>\n",
       "    <tr>\n",
       "      <th>3</th>\n",
       "      <td>Atrial fibrillation</td>\n",
       "      <td>AFIB</td>\n",
       "      <td>Atrial Fibrillation (via ICD10 Code): Time fro...</td>\n",
       "      <td>AFIB</td>\n",
       "      <td>1</td>\n",
       "      <td>0.740917</td>\n",
       "      <td>0.705538</td>\n",
       "      <td>0.833914</td>\n",
       "    </tr>\n",
       "    <tr>\n",
       "      <th>4</th>\n",
       "      <td>Atrial fibrillation</td>\n",
       "      <td>AFIB</td>\n",
       "      <td>TIME BETWEEN FIRST AND FIFTH VISITS, IN DAYS</td>\n",
       "      <td>AFIB</td>\n",
       "      <td>1</td>\n",
       "      <td>0.649747</td>\n",
       "      <td>0.436323</td>\n",
       "      <td>0.390703</td>\n",
       "    </tr>\n",
       "    <tr>\n",
       "      <th>...</th>\n",
       "      <td>...</td>\n",
       "      <td>...</td>\n",
       "      <td>...</td>\n",
       "      <td>...</td>\n",
       "      <td>...</td>\n",
       "      <td>...</td>\n",
       "      <td>...</td>\n",
       "      <td>...</td>\n",
       "    </tr>\n",
       "    <tr>\n",
       "      <th>11681</th>\n",
       "      <td>YAMS/SWEET POTATOES:(servings/week)</td>\n",
       "      <td>VEGETABLES</td>\n",
       "      <td>Time between first and third visits, in days</td>\n",
       "      <td>AFIB</td>\n",
       "      <td>0</td>\n",
       "      <td>0.113858</td>\n",
       "      <td>0.051002</td>\n",
       "      <td>0.112556</td>\n",
       "    </tr>\n",
       "    <tr>\n",
       "      <th>11693</th>\n",
       "      <td>GREEN STRING BEANS OR ASPARAGUS</td>\n",
       "      <td>VEGETABLES</td>\n",
       "      <td>Atrial fibrillation</td>\n",
       "      <td>AFIB</td>\n",
       "      <td>0</td>\n",
       "      <td>0.209988</td>\n",
       "      <td>0.049890</td>\n",
       "      <td>0.078867</td>\n",
       "    </tr>\n",
       "    <tr>\n",
       "      <th>11737</th>\n",
       "      <td>WINTER SQUASH:(servings/week)</td>\n",
       "      <td>VEGETABLES</td>\n",
       "      <td>Atrial fibrillation</td>\n",
       "      <td>AFIB</td>\n",
       "      <td>0</td>\n",
       "      <td>0.237220</td>\n",
       "      <td>0.041967</td>\n",
       "      <td>0.127642</td>\n",
       "    </tr>\n",
       "    <tr>\n",
       "      <th>11849</th>\n",
       "      <td>Weight (pounds), Exam 1</td>\n",
       "      <td>WGT</td>\n",
       "      <td>ATRIAL FIBRILLATION</td>\n",
       "      <td>AFIB</td>\n",
       "      <td>0</td>\n",
       "      <td>0.142214</td>\n",
       "      <td>0.302643</td>\n",
       "      <td>0.280906</td>\n",
       "    </tr>\n",
       "    <tr>\n",
       "      <th>11869</th>\n",
       "      <td>Weight (pounds), Exam 4</td>\n",
       "      <td>WGT</td>\n",
       "      <td>ATRIAL FIBRILLATION / FLUTTER BY NOVACODE</td>\n",
       "      <td>AFIB</td>\n",
       "      <td>0</td>\n",
       "      <td>0.101838</td>\n",
       "      <td>0.153728</td>\n",
       "      <td>0.257219</td>\n",
       "    </tr>\n",
       "  </tbody>\n",
       "</table>\n",
       "<p>318 rows × 8 columns</p>\n",
       "</div>"
      ],
      "text/plain": [
       "                    variable_description_1 concept_name_1  \\\n",
       "0                      Atrial fibrillation           AFIB   \n",
       "1                      Atrial fibrillation           AFIB   \n",
       "2                      Atrial fibrillation           AFIB   \n",
       "3                      Atrial fibrillation           AFIB   \n",
       "4                      Atrial fibrillation           AFIB   \n",
       "...                                    ...            ...   \n",
       "11681  YAMS/SWEET POTATOES:(servings/week)     VEGETABLES   \n",
       "11693      GREEN STRING BEANS OR ASPARAGUS     VEGETABLES   \n",
       "11737        WINTER SQUASH:(servings/week)     VEGETABLES   \n",
       "11849              Weight (pounds), Exam 1            WGT   \n",
       "11869              Weight (pounds), Exam 4            WGT   \n",
       "\n",
       "                                  variable_description_2 concept_name_2  \\\n",
       "0                                    time to incident af           AFIB   \n",
       "1                                    ATRIAL FIBRILLATION           AFIB   \n",
       "2                                ECG-ATRIAL FIBRILLATION           AFIB   \n",
       "3      Atrial Fibrillation (via ICD10 Code): Time fro...           AFIB   \n",
       "4           TIME BETWEEN FIRST AND FIFTH VISITS, IN DAYS           AFIB   \n",
       "...                                                  ...            ...   \n",
       "11681       Time between first and third visits, in days           AFIB   \n",
       "11693                                Atrial fibrillation           AFIB   \n",
       "11737                                Atrial fibrillation           AFIB   \n",
       "11849                                ATRIAL FIBRILLATION           AFIB   \n",
       "11869          ATRIAL FIBRILLATION / FLUTTER BY NOVACODE           AFIB   \n",
       "\n",
       "       match  predict_proba_ma  predict_proba_af  predict_proba_fm  \n",
       "0          1          0.793215          0.893683          0.546107  \n",
       "1          1          0.828124          0.934157          0.891936  \n",
       "2          1          0.770019          0.909504          0.819112  \n",
       "3          1          0.740917          0.705538          0.833914  \n",
       "4          1          0.649747          0.436323          0.390703  \n",
       "...      ...               ...               ...               ...  \n",
       "11681      0          0.113858          0.051002          0.112556  \n",
       "11693      0          0.209988          0.049890          0.078867  \n",
       "11737      0          0.237220          0.041967          0.127642  \n",
       "11849      0          0.142214          0.302643          0.280906  \n",
       "11869      0          0.101838          0.153728          0.257219  \n",
       "\n",
       "[318 rows x 8 columns]"
      ]
     },
     "execution_count": 44,
     "metadata": {},
     "output_type": "execute_result"
    }
   ],
   "source": [
    "concept = 'AFIB'\n",
    "conc_inf_df = inf_df[(inf_df['concept_name_1'] == concept) | (inf_df['concept_name_2'] == concept)][['variable_description_1', 'concept_name_1', 'variable_description_2', 'concept_name_2', 'match', 'predict_proba_ma', 'predict_proba_af', 'predict_proba_fm']]\n",
    "conc_inf_df"
   ]
  },
  {
   "cell_type": "code",
   "execution_count": 45,
   "id": "e361511a",
   "metadata": {},
   "outputs": [],
   "source": [
    "inf_df['predict_proba'] = inf_df[['predict_proba_ma', 'predict_proba_af', 'predict_proba_fm']].mean(axis=1)\n",
    "proba_1 = inf_df.loc[inf_df['match'] == 1, 'predict_proba'].to_numpy()\n",
    "proba_1.sort()\n",
    "proba_0 = inf_df.loc[inf_df['match'] == 0, 'predict_proba'].to_numpy()\n",
    "proba_0.sort()"
   ]
  },
  {
   "cell_type": "code",
   "execution_count": 46,
   "id": "01b4c78b-ea8b-4cfa-a937-da78d98c0bcb",
   "metadata": {},
   "outputs": [],
   "source": [
    "with open('./visualization/fcn_prob_match_0_cohort_spec.pkl', 'wb') as wfile:\n",
    "    pickle.dump(proba_0, wfile)\n",
    "with open('./visualization/fcn_prob_match_1_cohort_spec.pkl', 'wb') as wfile:\n",
    "    pickle.dump(proba_1, wfile)"
   ]
  },
  {
   "cell_type": "code",
   "execution_count": 47,
   "id": "521901e6",
   "metadata": {},
   "outputs": [
    {
     "data": {
      "image/png": "[encoded data removed]",
      "text/plain": [
       "<Figure size 1200x800 with 1 Axes>"
      ]
     },
     "metadata": {},
     "output_type": "display_data"
    }
   ],
   "source": [
    "# plot prediction probabilities\n",
    "plt.figure(figsize=(12,8))\n",
    "plt.hist([proba_0, proba_1], bins=101, label=['0', '1'])\n",
    "plt.legend(loc=\"upper right\")\n",
    "plt.xlabel(\"Probability of Match\")\n",
    "plt.ylabel(\"Frequency\")\n",
    "plt.xlim(0.0, 1.0)\n",
    "plt.yscale('log')\n",
    "plt.show()"
   ]
  },
  {
   "cell_type": "code",
   "execution_count": 48,
   "id": "5e07dd64",
   "metadata": {},
   "outputs": [],
   "source": [
    "violin_concepts = []\n",
    "violin_match = []\n",
    "violin_pred = []"
   ]
  },
  {
   "cell_type": "code",
   "execution_count": 49,
   "id": "699f9e1d",
   "metadata": {},
   "outputs": [],
   "source": [
    "for concept in concepts:\n",
    "    match_inf_conc = inf_df[(inf_df['concept_name_1'] == concept) | (inf_df['concept_name_2'] == concept)][['concept_name_1','concept_name_2', 'match', 'predict_proba']]\n",
    "    match_inf_conc['concept_name'] = match_inf_conc['concept_name_1'] + \",\" + match_inf_conc['concept_name_2']\n",
    "    match_inf_conc['concept_name'] = match_inf_conc['concept_name'].str.split(\",\")\n",
    "    match_inf_conc = match_inf_conc.explode('concept_name')\n",
    "    match_inf_conc = match_inf_conc.drop(columns=['concept_name_1', 'concept_name_2'])\n",
    "    match_inf_conc = match_inf_conc.drop_duplicates().reset_index(drop=True)\n",
    "    violin_concepts.append(match_inf_conc['concept_name'].values)\n",
    "    violin_match.append(match_inf_conc['match'].values)\n",
    "    violin_pred.append(match_inf_conc['predict_proba'].values)"
   ]
  },
  {
   "cell_type": "code",
   "execution_count": 50,
   "id": "2aea7bc8",
   "metadata": {},
   "outputs": [
    {
     "name": "stdout",
     "output_type": "stream",
     "text": [
      "(37242, 3)\n"
     ]
    }
   ],
   "source": [
    "violin_df = pd.DataFrame({\n",
    "    \"concept\": np.concatenate(violin_concepts).tolist(),\n",
    "    \"match\": np.concatenate(violin_match).tolist(),\n",
    "    \"predict_proba\": np.concatenate(violin_pred).tolist()\n",
    "})\n",
    "print(violin_df.shape)\n",
    "violin_df = violin_df.sort_values(\"concept\")"
   ]
  },
  {
   "cell_type": "code",
   "execution_count": 51,
   "id": "d744f010-c0a7-41b6-b7cd-4a19e1447d59",
   "metadata": {},
   "outputs": [],
   "source": [
    "violin_df.to_pickle('./visualization/fcn_violin_df_cohort_spec.pkl')"
   ]
  },
  {
   "cell_type": "code",
   "execution_count": 52,
   "id": "e06f69f0",
   "metadata": {
    "tags": []
   },
   "outputs": [
    {
     "data": {
      "text/plain": [
       "<AxesSubplot:xlabel='predict_proba', ylabel='concept'>"
      ]
     },
     "execution_count": 52,
     "metadata": {},
     "output_type": "execute_result"
    },
    {
     "data": {
      "image/png": "[encoded data removed]",
      "text/plain": [
       "<Figure size 2000x10000 with 1 Axes>"
      ]
     },
     "metadata": {},
     "output_type": "display_data"
    }
   ],
   "source": [
    "import seaborn as sns\n",
    "sns.set(rc={'figure.figsize':(20, 100)})\n",
    "sns.boxplot(data=violin_df, x=\"predict_proba\", y=\"concept\", hue=\"match\")"
   ]
  },
  {
   "cell_type": "markdown",
   "id": "4db6a529",
   "metadata": {},
   "source": [
    "### Concept Predictor"
   ]
  },
  {
   "cell_type": "code",
   "execution_count": 53,
   "id": "3e888826",
   "metadata": {},
   "outputs": [
    {
     "data": {
      "text/html": [
       "<div>\n",
       "<style scoped>\n",
       "    .dataframe tbody tr th:only-of-type {\n",
       "        vertical-align: middle;\n",
       "    }\n",
       "\n",
       "    .dataframe tbody tr th {\n",
       "        vertical-align: top;\n",
       "    }\n",
       "\n",
       "    .dataframe thead th {\n",
       "        text-align: right;\n",
       "    }\n",
       "</style>\n",
       "<table border=\"1\" class=\"dataframe\">\n",
       "  <thead>\n",
       "    <tr style=\"text-align: right;\">\n",
       "      <th></th>\n",
       "      <th>variable_description</th>\n",
       "      <th>concept</th>\n",
       "      <th>study</th>\n",
       "      <th>biobert_embedding</th>\n",
       "    </tr>\n",
       "  </thead>\n",
       "  <tbody>\n",
       "    <tr>\n",
       "      <th>0</th>\n",
       "      <td>Atrial fibrillation</td>\n",
       "      <td>AFIB</td>\n",
       "      <td>ARIC</td>\n",
       "      <td>[tensor(0.1640), tensor(0.1292), tensor(0.2356...</td>\n",
       "    </tr>\n",
       "    <tr>\n",
       "      <th>1</th>\n",
       "      <td>Incident AF</td>\n",
       "      <td>AFIB</td>\n",
       "      <td>ARIC</td>\n",
       "      <td>[tensor(-0.0823), tensor(-0.1281), tensor(-0.3...</td>\n",
       "    </tr>\n",
       "    <tr>\n",
       "      <th>2</th>\n",
       "      <td>time to incident af</td>\n",
       "      <td>AFIB</td>\n",
       "      <td>ARIC</td>\n",
       "      <td>[tensor(0.2017), tensor(-0.1166), tensor(-0.38...</td>\n",
       "    </tr>\n",
       "    <tr>\n",
       "      <th>3</th>\n",
       "      <td>DAYS SINCE EXAM 1</td>\n",
       "      <td>AFIB</td>\n",
       "      <td>ARIC</td>\n",
       "      <td>[tensor(0.4667), tensor(-0.3528), tensor(-0.15...</td>\n",
       "    </tr>\n",
       "    <tr>\n",
       "      <th>4</th>\n",
       "      <td>ATRIAL FIBRILLATION</td>\n",
       "      <td>AFIB</td>\n",
       "      <td>Framingham</td>\n",
       "      <td>[tensor(0.1640), tensor(0.1292), tensor(0.2356...</td>\n",
       "    </tr>\n",
       "    <tr>\n",
       "      <th>...</th>\n",
       "      <td>...</td>\n",
       "      <td>...</td>\n",
       "      <td>...</td>\n",
       "      <td>...</td>\n",
       "    </tr>\n",
       "    <tr>\n",
       "      <th>944</th>\n",
       "      <td>TRIG</td>\n",
       "      <td>TRIG</td>\n",
       "      <td>None</td>\n",
       "      <td>[tensor(0.1032), tensor(0.0132), tensor(0.0905...</td>\n",
       "    </tr>\n",
       "    <tr>\n",
       "      <th>945</th>\n",
       "      <td>VALVDIS</td>\n",
       "      <td>VALVDIS</td>\n",
       "      <td>None</td>\n",
       "      <td>[tensor(0.4729), tensor(-0.0575), tensor(-0.09...</td>\n",
       "    </tr>\n",
       "    <tr>\n",
       "      <th>946</th>\n",
       "      <td>VEGETABLES</td>\n",
       "      <td>VEGETABLES</td>\n",
       "      <td>None</td>\n",
       "      <td>[tensor(0.3033), tensor(-0.2493), tensor(-0.44...</td>\n",
       "    </tr>\n",
       "    <tr>\n",
       "      <th>947</th>\n",
       "      <td>VISDAY</td>\n",
       "      <td>VISDAY</td>\n",
       "      <td>None</td>\n",
       "      <td>[tensor(0.2013), tensor(-0.2242), tensor(-0.23...</td>\n",
       "    </tr>\n",
       "    <tr>\n",
       "      <th>948</th>\n",
       "      <td>WGT</td>\n",
       "      <td>WGT</td>\n",
       "      <td>None</td>\n",
       "      <td>[tensor(0.0061), tensor(-0.2963), tensor(-0.07...</td>\n",
       "    </tr>\n",
       "  </tbody>\n",
       "</table>\n",
       "<p>949 rows × 4 columns</p>\n",
       "</div>"
      ],
      "text/plain": [
       "    variable_description     concept       study  \\\n",
       "0    Atrial fibrillation        AFIB        ARIC   \n",
       "1            Incident AF        AFIB        ARIC   \n",
       "2    time to incident af        AFIB        ARIC   \n",
       "3      DAYS SINCE EXAM 1        AFIB        ARIC   \n",
       "4    ATRIAL FIBRILLATION        AFIB  Framingham   \n",
       "..                   ...         ...         ...   \n",
       "944                 TRIG        TRIG        None   \n",
       "945              VALVDIS     VALVDIS        None   \n",
       "946           VEGETABLES  VEGETABLES        None   \n",
       "947               VISDAY      VISDAY        None   \n",
       "948                  WGT         WGT        None   \n",
       "\n",
       "                                     biobert_embedding  \n",
       "0    [tensor(0.1640), tensor(0.1292), tensor(0.2356...  \n",
       "1    [tensor(-0.0823), tensor(-0.1281), tensor(-0.3...  \n",
       "2    [tensor(0.2017), tensor(-0.1166), tensor(-0.38...  \n",
       "3    [tensor(0.4667), tensor(-0.3528), tensor(-0.15...  \n",
       "4    [tensor(0.1640), tensor(0.1292), tensor(0.2356...  \n",
       "..                                                 ...  \n",
       "944  [tensor(0.1032), tensor(0.0132), tensor(0.0905...  \n",
       "945  [tensor(0.4729), tensor(-0.0575), tensor(-0.09...  \n",
       "946  [tensor(0.3033), tensor(-0.2493), tensor(-0.44...  \n",
       "947  [tensor(0.2013), tensor(-0.2242), tensor(-0.23...  \n",
       "948  [tensor(0.0061), tensor(-0.2963), tensor(-0.07...  \n",
       "\n",
       "[949 rows x 4 columns]"
      ]
     },
     "execution_count": 53,
     "metadata": {},
     "output_type": "execute_result"
    }
   ],
   "source": [
    "df_p = pd.read_pickle(\"/mnt/workspace/data/pickle/predictor_data.pkl\")\n",
    "df_p = df_p.reset_index(drop=True)\n",
    "df_p"
   ]
  },
  {
   "cell_type": "code",
   "execution_count": 54,
   "id": "bffb500c",
   "metadata": {},
   "outputs": [
    {
     "name": "stdout",
     "output_type": "stream",
     "text": [
      "64\n"
     ]
    }
   ],
   "source": [
    "# prepare the predictor dataset\n",
    "df_p_dict = {}\n",
    "p_concepts = df_p[df_p['study'] == 'None']['concept'].values\n",
    "p_concepts_embeds = df_p[df_p['study'] == 'None']['biobert_embedding'].values\n",
    "print(len(p_concepts))"
   ]
  },
  {
   "cell_type": "code",
   "execution_count": 55,
   "id": "17adc3ec",
   "metadata": {},
   "outputs": [],
   "source": [
    "# p_var_desc = df_p.iloc[0, 0]\n",
    "# p_var_concept = df_p.iloc[0, 1]\n",
    "# p_var_embed = df_p.iloc[0, 3]\n",
    "# p_var_input1 = torch.tensor([p_var_embed.numpy() for i in range(len(p_concepts_embeds))])\n",
    "# p_var_input2 = torch.tensor([p_concept_embed.numpy() for p_concept_embed in p_concepts_embeds])\n",
    "# p_var_target = torch.tensor(pd.Series(p_concepts).str.contains(p_var_concept).astype('int').to_numpy())\n",
    "# df_p_dict[p_var_desc] = (p_var_input1, p_var_input2, p_var_target)"
   ]
  },
  {
   "cell_type": "code",
   "execution_count": 56,
   "id": "1db25904",
   "metadata": {
    "tags": []
   },
   "outputs": [],
   "source": [
    "# p_pred_score_ma = inf_ma_model(df_p_dict[p_var_desc][0].to('cuda'), df_p_dict[p_var_desc][1].to('cuda')).cpu().squeeze().detach().numpy()\n",
    "# p_pred_score_af = inf_af_model(df_p_dict[p_var_desc][0].to('cuda'), df_p_dict[p_var_desc][1].to('cuda')).cpu().squeeze().detach().numpy()\n",
    "# p_pred_score_fm = inf_fm_model(df_p_dict[p_var_desc][0].to('cuda'), df_p_dict[p_var_desc][1].to('cuda')).cpu().squeeze().detach().numpy()\n",
    "\n",
    "# p_pred_df = pd.DataFrame({\n",
    "#     'concept_name': p_concepts,\n",
    "#     'pred_score_ma': p_pred_score_ma,\n",
    "#     'pred_score_af': p_pred_score_af,\n",
    "#     'pred_score_fm': p_pred_score_fm\n",
    "# })\n",
    "# p_pred_df['pred_score'] = p_pred_df[['pred_score_ma', 'pred_score_af', 'pred_score_fm']].mean(axis=1)\n",
    "# p_pred_df = p_pred_df.sort_values(by=['pred_score'], ascending=False)\n",
    "# p_pred_df.head(5)"
   ]
  },
  {
   "cell_type": "code",
   "execution_count": 57,
   "id": "c5a7f131",
   "metadata": {},
   "outputs": [],
   "source": [
    "# df_p = df_p.drop_duplicates(subset=['variable_description'])\n",
    "# df_p.shape"
   ]
  },
  {
   "cell_type": "code",
   "execution_count": 58,
   "id": "1e4f2707",
   "metadata": {},
   "outputs": [
    {
     "name": "stderr",
     "output_type": "stream",
     "text": [
      "2024-08-14 07:04:15.354783: I tensorflow/core/platform/cpu_feature_guard.cc:193] This TensorFlow binary is optimized with oneAPI Deep Neural Network Library (oneDNN) to use the following CPU instructions in performance-critical operations:  AVX2 FMA\n",
      "To enable them in other operations, rebuild TensorFlow with the appropriate compiler flags.\n",
      "2024-08-14 07:04:16.202709: W tensorflow/compiler/xla/stream_executor/platform/default/dso_loader.cc:64] Could not load dynamic library 'libnvinfer.so.7'; dlerror: libnvinfer.so.7: cannot open shared object file: No such file or directory; LD_LIBRARY_PATH: :/usr/local/cuda-11.6/lib64/\n",
      "2024-08-14 07:04:16.202830: W tensorflow/compiler/xla/stream_executor/platform/default/dso_loader.cc:64] Could not load dynamic library 'libnvinfer_plugin.so.7'; dlerror: libnvinfer_plugin.so.7: cannot open shared object file: No such file or directory; LD_LIBRARY_PATH: :/usr/local/cuda-11.6/lib64/\n",
      "2024-08-14 07:04:16.202842: W tensorflow/compiler/tf2tensorrt/utils/py_utils.cc:38] TF-TRT Warning: Cannot dlopen some TensorRT libraries. If you would like to use Nvidia GPU with TensorRT, please make sure the missing libraries mentioned above are installed properly.\n"
     ]
    }
   ],
   "source": [
    "# prepare a custom function for prediction given a sentence\n",
    "# ensure protobuf = 3.20.x\n",
    "from biobert_embedding.embedding import BiobertEmbedding\n",
    "biobert = BiobertEmbedding(model_path='/mnt/workspace/packages/biobert/')\n",
    "\n",
    "class ConceptPredictor_Tri:\n",
    "    def __init__(self, model_1, model_2, model_3, concepts, concepts_embeds):\n",
    "        self.model_1 = model_1\n",
    "        self.model_2 = model_2\n",
    "        self.model_3 = model_3\n",
    "        self.concepts = concepts\n",
    "        self.concepts_embeds = concepts_embeds\n",
    "    \n",
    "    def predict_concept(self, sentence):\n",
    "        sent_embed = biobert.sentence_vector(sentence)\n",
    "        input1 = torch.tensor([sent_embed.numpy() for i in range(len(self.concepts_embeds))])\n",
    "        input2 = torch.tensor([concept_embed.numpy() for concept_embed in self.concepts_embeds])\n",
    "        pred_score_1 = self.model_1(input1.to('cuda'), input2.to('cuda')).cpu().squeeze().detach().numpy()\n",
    "        pred_score_2 = self.model_2(input1.to('cuda'), input2.to('cuda')).cpu().squeeze().detach().numpy()\n",
    "        pred_score_3 = self.model_3(input1.to('cuda'), input2.to('cuda')).cpu().squeeze().detach().numpy()\n",
    "        pred_df = pd.DataFrame({\n",
    "            'concept_name': self.concepts,\n",
    "            'pred_score_1': pred_score_1,\n",
    "            'pred_score_2': pred_score_2,\n",
    "            'pred_score_3': pred_score_3\n",
    "        })\n",
    "        pred_df['pred_score'] = pred_df[['pred_score_1', 'pred_score_2', 'pred_score_3']].mean(axis=1)\n",
    "        pred_df = pred_df.sort_values(by=['pred_score'], ascending=False)\n",
    "\n",
    "        return pred_df\n",
    "    \n",
    "    def baseline(self, sentence):\n",
    "        sent_embed = biobert.sentence_vector(sentence)\n",
    "        input1 = [sent_embed for i in range(len(self.concepts_embeds))]\n",
    "        input2 = [concept_embed for concept_embed in self.concepts_embeds]\n",
    "        cos_sim = nn.CosineSimilarity(dim=0)\n",
    "        pred_df = pd.DataFrame({\n",
    "            'concept_name': self.concepts,\n",
    "            'biobert_embedding_1': input1,\n",
    "            'biobert_embedding_2': input2\n",
    "        })\n",
    "        pred_df['cosine_similarity'] = pred_df.apply(lambda x: cos_sim(x.biobert_embedding_1, x.biobert_embedding_2).numpy(), axis=1)\n",
    "        pred_df = pred_df.drop(columns=['biobert_embedding_1', 'biobert_embedding_2']).sort_values(by=['cosine_similarity'], ascending=False)\n",
    "        \n",
    "        return pred_df"
   ]
  },
  {
   "cell_type": "code",
   "execution_count": 59,
   "id": "9a9b8c9d",
   "metadata": {},
   "outputs": [],
   "source": [
    "CPred = ConceptPredictor_Tri(inf_ma_model, inf_af_model, inf_fm_model, p_concepts, p_concepts_embeds)"
   ]
  },
  {
   "cell_type": "code",
   "execution_count": 60,
   "id": "b5d9e1a1",
   "metadata": {},
   "outputs": [
    {
     "data": {
      "text/html": [
       "<div>\n",
       "<style scoped>\n",
       "    .dataframe tbody tr th:only-of-type {\n",
       "        vertical-align: middle;\n",
       "    }\n",
       "\n",
       "    .dataframe tbody tr th {\n",
       "        vertical-align: top;\n",
       "    }\n",
       "\n",
       "    .dataframe thead th {\n",
       "        text-align: right;\n",
       "    }\n",
       "</style>\n",
       "<table border=\"1\" class=\"dataframe\">\n",
       "  <thead>\n",
       "    <tr style=\"text-align: right;\">\n",
       "      <th></th>\n",
       "      <th>concept_name</th>\n",
       "      <th>pred_score_1</th>\n",
       "      <th>pred_score_2</th>\n",
       "      <th>pred_score_3</th>\n",
       "      <th>pred_score</th>\n",
       "    </tr>\n",
       "  </thead>\n",
       "  <tbody>\n",
       "    <tr>\n",
       "      <th>0</th>\n",
       "      <td>AFIB</td>\n",
       "      <td>0.112251</td>\n",
       "      <td>0.696984</td>\n",
       "      <td>0.654434</td>\n",
       "      <td>0.487890</td>\n",
       "    </tr>\n",
       "    <tr>\n",
       "      <th>12</th>\n",
       "      <td>CURRSMK</td>\n",
       "      <td>0.396547</td>\n",
       "      <td>0.535946</td>\n",
       "      <td>0.291893</td>\n",
       "      <td>0.408129</td>\n",
       "    </tr>\n",
       "    <tr>\n",
       "      <th>60</th>\n",
       "      <td>VALVDIS</td>\n",
       "      <td>0.110208</td>\n",
       "      <td>0.703519</td>\n",
       "      <td>0.406183</td>\n",
       "      <td>0.406637</td>\n",
       "    </tr>\n",
       "    <tr>\n",
       "      <th>25</th>\n",
       "      <td>FAM_INCOME</td>\n",
       "      <td>0.315120</td>\n",
       "      <td>0.664656</td>\n",
       "      <td>0.176824</td>\n",
       "      <td>0.385533</td>\n",
       "    </tr>\n",
       "    <tr>\n",
       "      <th>17</th>\n",
       "      <td>DIABP</td>\n",
       "      <td>0.373003</td>\n",
       "      <td>0.520222</td>\n",
       "      <td>0.228185</td>\n",
       "      <td>0.373803</td>\n",
       "    </tr>\n",
       "    <tr>\n",
       "      <th>...</th>\n",
       "      <td>...</td>\n",
       "      <td>...</td>\n",
       "      <td>...</td>\n",
       "      <td>...</td>\n",
       "      <td>...</td>\n",
       "    </tr>\n",
       "    <tr>\n",
       "      <th>57</th>\n",
       "      <td>SYSBP2</td>\n",
       "      <td>0.193814</td>\n",
       "      <td>0.042740</td>\n",
       "      <td>0.096178</td>\n",
       "      <td>0.110911</td>\n",
       "    </tr>\n",
       "    <tr>\n",
       "      <th>42</th>\n",
       "      <td>INSULIN</td>\n",
       "      <td>0.074268</td>\n",
       "      <td>0.016900</td>\n",
       "      <td>0.237981</td>\n",
       "      <td>0.109716</td>\n",
       "    </tr>\n",
       "    <tr>\n",
       "      <th>35</th>\n",
       "      <td>HGT_CM</td>\n",
       "      <td>0.049849</td>\n",
       "      <td>0.061842</td>\n",
       "      <td>0.204085</td>\n",
       "      <td>0.105259</td>\n",
       "    </tr>\n",
       "    <tr>\n",
       "      <th>4</th>\n",
       "      <td>ASPIRIN</td>\n",
       "      <td>0.085793</td>\n",
       "      <td>0.026945</td>\n",
       "      <td>0.188405</td>\n",
       "      <td>0.100381</td>\n",
       "    </tr>\n",
       "    <tr>\n",
       "      <th>61</th>\n",
       "      <td>VEGETABLES</td>\n",
       "      <td>0.070574</td>\n",
       "      <td>0.094687</td>\n",
       "      <td>0.053344</td>\n",
       "      <td>0.072868</td>\n",
       "    </tr>\n",
       "  </tbody>\n",
       "</table>\n",
       "<p>64 rows × 5 columns</p>\n",
       "</div>"
      ],
      "text/plain": [
       "   concept_name  pred_score_1  pred_score_2  pred_score_3  pred_score\n",
       "0          AFIB      0.112251      0.696984      0.654434    0.487890\n",
       "12      CURRSMK      0.396547      0.535946      0.291893    0.408129\n",
       "60      VALVDIS      0.110208      0.703519      0.406183    0.406637\n",
       "25   FAM_INCOME      0.315120      0.664656      0.176824    0.385533\n",
       "17        DIABP      0.373003      0.520222      0.228185    0.373803\n",
       "..          ...           ...           ...           ...         ...\n",
       "57       SYSBP2      0.193814      0.042740      0.096178    0.110911\n",
       "42      INSULIN      0.074268      0.016900      0.237981    0.109716\n",
       "35       HGT_CM      0.049849      0.061842      0.204085    0.105259\n",
       "4       ASPIRIN      0.085793      0.026945      0.188405    0.100381\n",
       "61   VEGETABLES      0.070574      0.094687      0.053344    0.072868\n",
       "\n",
       "[64 rows x 5 columns]"
      ]
     },
     "execution_count": 60,
     "metadata": {},
     "output_type": "execute_result"
    }
   ],
   "source": [
    "tmp1 = CPred.predict_concept(\"ECG: RHYTHM\")\n",
    "tmp1"
   ]
  },
  {
   "cell_type": "code",
   "execution_count": 61,
   "id": "b3b91e62",
   "metadata": {},
   "outputs": [
    {
     "data": {
      "text/html": [
       "<div>\n",
       "<style scoped>\n",
       "    .dataframe tbody tr th:only-of-type {\n",
       "        vertical-align: middle;\n",
       "    }\n",
       "\n",
       "    .dataframe tbody tr th {\n",
       "        vertical-align: top;\n",
       "    }\n",
       "\n",
       "    .dataframe thead th {\n",
       "        text-align: right;\n",
       "    }\n",
       "</style>\n",
       "<table border=\"1\" class=\"dataframe\">\n",
       "  <thead>\n",
       "    <tr style=\"text-align: right;\">\n",
       "      <th></th>\n",
       "      <th>concept_name</th>\n",
       "      <th>cosine_similarity</th>\n",
       "    </tr>\n",
       "  </thead>\n",
       "  <tbody>\n",
       "    <tr>\n",
       "      <th>12</th>\n",
       "      <td>CURRSMK</td>\n",
       "      <td>0.85236317</td>\n",
       "    </tr>\n",
       "    <tr>\n",
       "      <th>37</th>\n",
       "      <td>HXCVD</td>\n",
       "      <td>0.85200137</td>\n",
       "    </tr>\n",
       "    <tr>\n",
       "      <th>28</th>\n",
       "      <td>FASTING_BG</td>\n",
       "      <td>0.8453882</td>\n",
       "    </tr>\n",
       "    <tr>\n",
       "      <th>19</th>\n",
       "      <td>DIABP2</td>\n",
       "      <td>0.84490925</td>\n",
       "    </tr>\n",
       "    <tr>\n",
       "      <th>27</th>\n",
       "      <td>FASTING_8HR</td>\n",
       "      <td>0.8438038</td>\n",
       "    </tr>\n",
       "    <tr>\n",
       "      <th>...</th>\n",
       "      <td>...</td>\n",
       "      <td>...</td>\n",
       "    </tr>\n",
       "    <tr>\n",
       "      <th>2</th>\n",
       "      <td>ALCOHOL</td>\n",
       "      <td>0.71450764</td>\n",
       "    </tr>\n",
       "    <tr>\n",
       "      <th>30</th>\n",
       "      <td>FRUITS</td>\n",
       "      <td>0.7136169</td>\n",
       "    </tr>\n",
       "    <tr>\n",
       "      <th>61</th>\n",
       "      <td>VEGETABLES</td>\n",
       "      <td>0.6829248</td>\n",
       "    </tr>\n",
       "    <tr>\n",
       "      <th>52</th>\n",
       "      <td>STATE</td>\n",
       "      <td>0.6652786</td>\n",
       "    </tr>\n",
       "    <tr>\n",
       "      <th>42</th>\n",
       "      <td>INSULIN</td>\n",
       "      <td>0.65852934</td>\n",
       "    </tr>\n",
       "  </tbody>\n",
       "</table>\n",
       "<p>64 rows × 2 columns</p>\n",
       "</div>"
      ],
      "text/plain": [
       "   concept_name cosine_similarity\n",
       "12      CURRSMK        0.85236317\n",
       "37        HXCVD        0.85200137\n",
       "28   FASTING_BG         0.8453882\n",
       "19       DIABP2        0.84490925\n",
       "27  FASTING_8HR         0.8438038\n",
       "..          ...               ...\n",
       "2       ALCOHOL        0.71450764\n",
       "30       FRUITS         0.7136169\n",
       "61   VEGETABLES         0.6829248\n",
       "52        STATE         0.6652786\n",
       "42      INSULIN        0.65852934\n",
       "\n",
       "[64 rows x 2 columns]"
      ]
     },
     "execution_count": 61,
     "metadata": {},
     "output_type": "execute_result"
    }
   ],
   "source": [
    "tmp1 = CPred.baseline(\"ECG: RHYTHM\")\n",
    "tmp1"
   ]
  },
  {
   "cell_type": "code",
   "execution_count": 62,
   "id": "171c386d",
   "metadata": {},
   "outputs": [],
   "source": [
    "# get the top1 and top5 accuracy\n",
    "top1 = []\n",
    "top5 = []\n",
    "for idx, row in df_p.iterrows():\n",
    "    pred_df = CPred.predict_concept(row['variable_description'])\n",
    "    pred_concepts = pred_df['concept_name']\n",
    "    label = row['concept']\n",
    "    if label in pred_concepts[0:1].values:\n",
    "        top1.append(True)\n",
    "    else:\n",
    "        top1.append(False)\n",
    "    if label in pred_concepts[0:5].values:\n",
    "        top5.append(True)\n",
    "    else:\n",
    "        top5.append(False)"
   ]
  },
  {
   "cell_type": "code",
   "execution_count": 63,
   "id": "9c5f67da-0a80-41b0-8e90-5949b02efe62",
   "metadata": {},
   "outputs": [
    {
     "name": "stdout",
     "output_type": "stream",
     "text": [
      "top1 accuracy:  75.764\n",
      "top5 accuracy:  97.1549\n"
     ]
    }
   ],
   "source": [
    "print('top1 accuracy: ', np.round(sum(top1)/len(top1) * 100, 4))\n",
    "print('top5 accuracy: ', np.round(sum(top5)/len(top5) * 100, 4))"
   ]
  },
  {
   "cell_type": "code",
   "execution_count": 64,
   "id": "856522cc-b37e-441d-a9d2-2ad4651561c4",
   "metadata": {},
   "outputs": [
    {
     "data": {
      "text/plain": [
       "array([73.1296, 78.5037])"
      ]
     },
     "execution_count": 64,
     "metadata": {},
     "output_type": "execute_result"
    }
   ],
   "source": [
    "# CI top-1\n",
    "n_bootstraps = 1000\n",
    "rng_seed = 42  # control reproducibility\n",
    "bootstrapped_scores = []\n",
    "y_pred = top1\n",
    "y_test = pd.DataFrame([True for i in range(len(y_pred))])\n",
    "rng = np.random.RandomState(rng_seed)\n",
    "\n",
    "for i in range(n_bootstraps):\n",
    "    # bootstrap by sampling with replacement on the prediction indices\n",
    "    indices = rng.randint(0, len(y_pred), len(y_pred))\n",
    "\n",
    "    score = np.round(sum(pd.DataFrame(y_pred).iloc[indices][0].values) / sum(y_test.iloc[indices][0].values) * 100, 4)\n",
    "    bootstrapped_scores.append(score)\n",
    "    # print(\"Bootstrap #{} ROC area: {:0.3f}\".format(i + 1, score))\n",
    "np.percentile(bootstrapped_scores, (2.5, 97.5))"
   ]
  },
  {
   "cell_type": "code",
   "execution_count": 65,
   "id": "8b1d7f0b-7896-4efd-bba1-b8959f9b17ee",
   "metadata": {},
   "outputs": [
    {
     "data": {
      "text/plain": [
       "array([95.9958, 98.2086])"
      ]
     },
     "execution_count": 65,
     "metadata": {},
     "output_type": "execute_result"
    }
   ],
   "source": [
    "# CI top-5\n",
    "n_bootstraps = 1000\n",
    "rng_seed = 42  # control reproducibility\n",
    "bootstrapped_scores = []\n",
    "y_pred = top5\n",
    "y_test = pd.DataFrame([True for i in range(len(y_pred))])\n",
    "rng = np.random.RandomState(rng_seed)\n",
    "\n",
    "for i in range(n_bootstraps):\n",
    "    # bootstrap by sampling with replacement on the prediction indices\n",
    "    indices = rng.randint(0, len(y_pred), len(y_pred))\n",
    "\n",
    "    score = np.round(sum(pd.DataFrame(y_pred).iloc[indices][0].values) / sum(y_test.iloc[indices][0].values) * 100, 4)\n",
    "    bootstrapped_scores.append(score)\n",
    "    # print(\"Bootstrap #{} ROC area: {:0.3f}\".format(i + 1, score))\n",
    "np.percentile(bootstrapped_scores, (2.5, 97.5))"
   ]
  },
  {
   "cell_type": "code",
   "execution_count": 66,
   "id": "719d851a-9d7e-4010-81aa-20f8ebf3d40a",
   "metadata": {},
   "outputs": [],
   "source": [
    "# get the top1 and top5 accuracy (MA model)\n",
    "top1 = []\n",
    "top5 = []\n",
    "for idx, row in df_p.iterrows():\n",
    "    pred_df = CPred.predict_concept(row['variable_description'])\n",
    "    pred_df = pred_df.sort_values(by=['pred_score_1'], ascending=False)\n",
    "    pred_concepts = pred_df['concept_name']\n",
    "    label = row['concept']\n",
    "    if label in pred_concepts[0:1].values:\n",
    "        top1.append(True)\n",
    "    else:\n",
    "        top1.append(False)\n",
    "    if label in pred_concepts[0:5].values:\n",
    "        top5.append(True)\n",
    "    else:\n",
    "        top5.append(False)"
   ]
  },
  {
   "cell_type": "code",
   "execution_count": 68,
   "id": "76dc7415-6b0a-4950-a7eb-5081af0ba2f2",
   "metadata": {},
   "outputs": [
    {
     "name": "stdout",
     "output_type": "stream",
     "text": [
      "top1 accuracy:  55.4268\n",
      "top5 accuracy:  76.5016\n"
     ]
    }
   ],
   "source": [
    "print('top1 accuracy: ', np.round(sum(top1)/len(top1) * 100, 4))\n",
    "print('top5 accuracy: ', np.round(sum(top5)/len(top5) * 100, 4))"
   ]
  },
  {
   "cell_type": "code",
   "execution_count": 69,
   "id": "6906fe26-4f23-48f7-8661-4c47718baf80",
   "metadata": {},
   "outputs": [
    {
     "data": {
      "text/plain": [
       "array([52.2655, 58.6934])"
      ]
     },
     "execution_count": 69,
     "metadata": {},
     "output_type": "execute_result"
    }
   ],
   "source": [
    "# CI top-1\n",
    "n_bootstraps = 1000\n",
    "rng_seed = 42  # control reproducibility\n",
    "bootstrapped_scores = []\n",
    "y_pred = top1\n",
    "y_test = pd.DataFrame([True for i in range(len(y_pred))])\n",
    "rng = np.random.RandomState(rng_seed)\n",
    "\n",
    "for i in range(n_bootstraps):\n",
    "    # bootstrap by sampling with replacement on the prediction indices\n",
    "    indices = rng.randint(0, len(y_pred), len(y_pred))\n",
    "\n",
    "    score = np.round(sum(pd.DataFrame(y_pred).iloc[indices][0].values) / sum(y_test.iloc[indices][0].values) * 100, 4)\n",
    "    bootstrapped_scores.append(score)\n",
    "    # print(\"Bootstrap #{} ROC area: {:0.3f}\".format(i + 1, score))\n",
    "np.percentile(bootstrapped_scores, (2.5, 97.5))"
   ]
  },
  {
   "cell_type": "code",
   "execution_count": 70,
   "id": "cbdb9d5e-611d-4520-900f-9e362e932213",
   "metadata": {},
   "outputs": [
    {
     "data": {
      "text/plain": [
       "array([73.7619, 79.2413])"
      ]
     },
     "execution_count": 70,
     "metadata": {},
     "output_type": "execute_result"
    }
   ],
   "source": [
    "# CI top-5\n",
    "n_bootstraps = 1000\n",
    "rng_seed = 42  # control reproducibility\n",
    "bootstrapped_scores = []\n",
    "y_pred = top5\n",
    "y_test = pd.DataFrame([True for i in range(len(y_pred))])\n",
    "rng = np.random.RandomState(rng_seed)\n",
    "\n",
    "for i in range(n_bootstraps):\n",
    "    # bootstrap by sampling with replacement on the prediction indices\n",
    "    indices = rng.randint(0, len(y_pred), len(y_pred))\n",
    "\n",
    "    score = np.round(sum(pd.DataFrame(y_pred).iloc[indices][0].values) / sum(y_test.iloc[indices][0].values) * 100, 4)\n",
    "    bootstrapped_scores.append(score)\n",
    "    # print(\"Bootstrap #{} ROC area: {:0.3f}\".format(i + 1, score))\n",
    "np.percentile(bootstrapped_scores, (2.5, 97.5))"
   ]
  },
  {
   "cell_type": "code",
   "execution_count": 71,
   "id": "9348a6cc-e777-400f-90f2-a5eb3a0f0073",
   "metadata": {},
   "outputs": [],
   "source": [
    "# get the top1 and top5 accuracy (AF model)\n",
    "top1 = []\n",
    "top5 = []\n",
    "for idx, row in df_p.iterrows():\n",
    "    pred_df = CPred.predict_concept(row['variable_description'])\n",
    "    pred_df = pred_df.sort_values(by=['pred_score_2'], ascending=False)\n",
    "    pred_concepts = pred_df['concept_name']\n",
    "    label = row['concept']\n",
    "    if label in pred_concepts[0:1].values:\n",
    "        top1.append(True)\n",
    "    else:\n",
    "        top1.append(False)\n",
    "    if label in pred_concepts[0:5].values:\n",
    "        top5.append(True)\n",
    "    else:\n",
    "        top5.append(False)"
   ]
  },
  {
   "cell_type": "code",
   "execution_count": 72,
   "id": "ab47bf7b-8c47-411d-9983-88357fc1ff09",
   "metadata": {},
   "outputs": [
    {
     "name": "stdout",
     "output_type": "stream",
     "text": [
      "top1 accuracy:  71.2329\n",
      "top5 accuracy:  88.5142\n"
     ]
    }
   ],
   "source": [
    "print('top1 accuracy: ', np.round(sum(top1)/len(top1) * 100, 4))\n",
    "print('top5 accuracy: ', np.round(sum(top5)/len(top5) * 100, 4))"
   ]
  },
  {
   "cell_type": "code",
   "execution_count": 73,
   "id": "1b36009b-2bb4-4364-b550-0cf076e04061",
   "metadata": {},
   "outputs": [
    {
     "data": {
      "text/plain": [
       "array([68.385165, 74.080635])"
      ]
     },
     "execution_count": 73,
     "metadata": {},
     "output_type": "execute_result"
    }
   ],
   "source": [
    "# CI top-1\n",
    "n_bootstraps = 1000\n",
    "rng_seed = 42  # control reproducibility\n",
    "bootstrapped_scores = []\n",
    "y_pred = top1\n",
    "y_test = pd.DataFrame([True for i in range(len(y_pred))])\n",
    "rng = np.random.RandomState(rng_seed)\n",
    "\n",
    "for i in range(n_bootstraps):\n",
    "    # bootstrap by sampling with replacement on the prediction indices\n",
    "    indices = rng.randint(0, len(y_pred), len(y_pred))\n",
    "\n",
    "    score = np.round(sum(pd.DataFrame(y_pred).iloc[indices][0].values) / sum(y_test.iloc[indices][0].values) * 100, 4)\n",
    "    bootstrapped_scores.append(score)\n",
    "    # print(\"Bootstrap #{} ROC area: {:0.3f}\".format(i + 1, score))\n",
    "np.percentile(bootstrapped_scores, (2.5, 97.5))"
   ]
  },
  {
   "cell_type": "code",
   "execution_count": 74,
   "id": "46d8552c-00f7-4627-9aa4-116d3177ff7f",
   "metadata": {},
   "outputs": [
    {
     "data": {
      "text/plain": [
       "array([86.6175, 90.5163])"
      ]
     },
     "execution_count": 74,
     "metadata": {},
     "output_type": "execute_result"
    }
   ],
   "source": [
    "# CI top-5\n",
    "n_bootstraps = 1000\n",
    "rng_seed = 42  # control reproducibility\n",
    "bootstrapped_scores = []\n",
    "y_pred = top5\n",
    "y_test = pd.DataFrame([True for i in range(len(y_pred))])\n",
    "rng = np.random.RandomState(rng_seed)\n",
    "\n",
    "for i in range(n_bootstraps):\n",
    "    # bootstrap by sampling with replacement on the prediction indices\n",
    "    indices = rng.randint(0, len(y_pred), len(y_pred))\n",
    "\n",
    "    score = np.round(sum(pd.DataFrame(y_pred).iloc[indices][0].values) / sum(y_test.iloc[indices][0].values) * 100, 4)\n",
    "    bootstrapped_scores.append(score)\n",
    "    # print(\"Bootstrap #{} ROC area: {:0.3f}\".format(i + 1, score))\n",
    "np.percentile(bootstrapped_scores, (2.5, 97.5))"
   ]
  },
  {
   "cell_type": "code",
   "execution_count": 75,
   "id": "671d110e-f045-4300-985f-92cc474c95c0",
   "metadata": {},
   "outputs": [],
   "source": [
    "# get the top1 and top5 accuracy (FM model)\n",
    "top1 = []\n",
    "top5 = []\n",
    "for idx, row in df_p.iterrows():\n",
    "    pred_df = CPred.predict_concept(row['variable_description'])\n",
    "    pred_df = pred_df.sort_values(by=['pred_score_3'], ascending=False)\n",
    "    pred_concepts = pred_df['concept_name']\n",
    "    label = row['concept']\n",
    "    if label in pred_concepts[0:1].values:\n",
    "        top1.append(True)\n",
    "    else:\n",
    "        top1.append(False)\n",
    "    if label in pred_concepts[0:5].values:\n",
    "        top5.append(True)\n",
    "    else:\n",
    "        top5.append(False)"
   ]
  },
  {
   "cell_type": "code",
   "execution_count": 76,
   "id": "774c7920-8376-44e1-801b-553d4d738571",
   "metadata": {},
   "outputs": [
    {
     "name": "stdout",
     "output_type": "stream",
     "text": [
      "top1 accuracy:  52.7924\n",
      "top5 accuracy:  75.5532\n"
     ]
    }
   ],
   "source": [
    "print('top1 accuracy: ', np.round(sum(top1)/len(top1) * 100, 4))\n",
    "print('top5 accuracy: ', np.round(sum(top5)/len(top5) * 100, 4))"
   ]
  },
  {
   "cell_type": "code",
   "execution_count": 77,
   "id": "4a5df806-2d0f-4834-b66a-e7f34319fb1c",
   "metadata": {},
   "outputs": [
    {
     "data": {
      "text/plain": [
       "array([49.6312, 55.9536])"
      ]
     },
     "execution_count": 77,
     "metadata": {},
     "output_type": "execute_result"
    }
   ],
   "source": [
    "# CI top-1\n",
    "n_bootstraps = 1000\n",
    "rng_seed = 42  # control reproducibility\n",
    "bootstrapped_scores = []\n",
    "y_pred = top1\n",
    "y_test = pd.DataFrame([True for i in range(len(y_pred))])\n",
    "rng = np.random.RandomState(rng_seed)\n",
    "\n",
    "for i in range(n_bootstraps):\n",
    "    # bootstrap by sampling with replacement on the prediction indices\n",
    "    indices = rng.randint(0, len(y_pred), len(y_pred))\n",
    "\n",
    "    score = np.round(sum(pd.DataFrame(y_pred).iloc[indices][0].values) / sum(y_test.iloc[indices][0].values) * 100, 4)\n",
    "    bootstrapped_scores.append(score)\n",
    "    # print(\"Bootstrap #{} ROC area: {:0.3f}\".format(i + 1, score))\n",
    "np.percentile(bootstrapped_scores, (2.5, 97.5))"
   ]
  },
  {
   "cell_type": "code",
   "execution_count": 78,
   "id": "53cf356c-d9c0-4a07-be96-eaf0bc89430a",
   "metadata": {},
   "outputs": [
    {
     "data": {
      "text/plain": [
       "array([72.7081  , 78.084835])"
      ]
     },
     "execution_count": 78,
     "metadata": {},
     "output_type": "execute_result"
    }
   ],
   "source": [
    "# CI top-5\n",
    "n_bootstraps = 1000\n",
    "rng_seed = 42  # control reproducibility\n",
    "bootstrapped_scores = []\n",
    "y_pred = top5\n",
    "y_test = pd.DataFrame([True for i in range(len(y_pred))])\n",
    "rng = np.random.RandomState(rng_seed)\n",
    "\n",
    "for i in range(n_bootstraps):\n",
    "    # bootstrap by sampling with replacement on the prediction indices\n",
    "    indices = rng.randint(0, len(y_pred), len(y_pred))\n",
    "\n",
    "    score = np.round(sum(pd.DataFrame(y_pred).iloc[indices][0].values) / sum(y_test.iloc[indices][0].values) * 100, 4)\n",
    "    bootstrapped_scores.append(score)\n",
    "    # print(\"Bootstrap #{} ROC area: {:0.3f}\".format(i + 1, score))\n",
    "np.percentile(bootstrapped_scores, (2.5, 97.5))"
   ]
  },
  {
   "cell_type": "code",
   "execution_count": 79,
   "id": "2933ac90",
   "metadata": {},
   "outputs": [],
   "source": [
    "# get the top1 and top5 accuracy (baseline)\n",
    "top1 = []\n",
    "top5 = []\n",
    "for idx, row in df_p.iterrows():\n",
    "    pred_df = CPred.baseline(row['variable_description'])\n",
    "    pred_concepts = pred_df['concept_name']\n",
    "    label = row['concept']\n",
    "    if label in pred_concepts[0:1].values:\n",
    "        top1.append(True)\n",
    "    else:\n",
    "        top1.append(False)\n",
    "    if label in pred_concepts[0:5].values:\n",
    "        top5.append(True)\n",
    "    else:\n",
    "        top5.append(False)"
   ]
  },
  {
   "cell_type": "code",
   "execution_count": 80,
   "id": "3f6d34c9-3ab6-4333-8393-93207d00373e",
   "metadata": {},
   "outputs": [
    {
     "name": "stdout",
     "output_type": "stream",
     "text": [
      "top1 accuracy:  12.118\n",
      "top5 accuracy:  22.2339\n"
     ]
    }
   ],
   "source": [
    "print('top1 accuracy: ', np.round(sum(top1)/len(top1) * 100, 4))\n",
    "print('top5 accuracy: ', np.round(sum(top5)/len(top5) * 100, 4))"
   ]
  },
  {
   "cell_type": "code",
   "execution_count": 81,
   "id": "d6ef69fe-387e-4678-8604-27c15ec53304",
   "metadata": {},
   "outputs": [
    {
     "name": "stdout",
     "output_type": "stream",
     "text": [
      "top1 accuracy:  49.3333\n",
      "top5 accuracy:  64.0\n"
     ]
    }
   ],
   "source": [
    "df_p_af = df_p[df_p['study'].isin(['MESA', 'None'])]\n",
    "# get the top1 and top5 accuracy (AF model)\n",
    "top1 = []\n",
    "top5 = []\n",
    "for idx, row in df_p_af.iterrows():\n",
    "    pred_df = CPred.predict_concept(row['variable_description'])\n",
    "    pred_df = pred_df.sort_values(by=['pred_score_2'], ascending=False)\n",
    "    pred_concepts = pred_df['concept_name']\n",
    "    label = row['concept']\n",
    "    if label in pred_concepts[0:1].values:\n",
    "        top1.append(True)\n",
    "    else:\n",
    "        top1.append(False)\n",
    "    if label in pred_concepts[0:5].values:\n",
    "        top5.append(True)\n",
    "    else:\n",
    "        top5.append(False)\n",
    "print('top1 accuracy: ', np.round(sum(top1)/len(top1) * 100, 4))\n",
    "print('top5 accuracy: ', np.round(sum(top5)/len(top5) * 100, 4))"
   ]
  },
  {
   "cell_type": "code",
   "execution_count": 82,
   "id": "31ba5a6f-339f-4a2f-abd0-1bd80a8655e4",
   "metadata": {},
   "outputs": [
    {
     "data": {
      "text/plain": [
       "array([43.1111, 55.1111])"
      ]
     },
     "execution_count": 82,
     "metadata": {},
     "output_type": "execute_result"
    }
   ],
   "source": [
    "# CI top-1\n",
    "n_bootstraps = 1000\n",
    "rng_seed = 42  # control reproducibility\n",
    "bootstrapped_scores = []\n",
    "y_pred = top1\n",
    "y_test = pd.DataFrame([True for i in range(len(y_pred))])\n",
    "rng = np.random.RandomState(rng_seed)\n",
    "\n",
    "for i in range(n_bootstraps):\n",
    "    # bootstrap by sampling with replacement on the prediction indices\n",
    "    indices = rng.randint(0, len(y_pred), len(y_pred))\n",
    "\n",
    "    score = np.round(sum(pd.DataFrame(y_pred).iloc[indices][0].values) / sum(y_test.iloc[indices][0].values) * 100, 4)\n",
    "    bootstrapped_scores.append(score)\n",
    "    # print(\"Bootstrap #{} ROC area: {:0.3f}\".format(i + 1, score))\n",
    "np.percentile(bootstrapped_scores, (2.5, 97.5))"
   ]
  },
  {
   "cell_type": "code",
   "execution_count": 83,
   "id": "40cf673e-9dc3-43c5-8bbb-b35f5dc81e39",
   "metadata": {},
   "outputs": [
    {
     "data": {
      "text/plain": [
       "array([57.7778   , 69.3444125])"
      ]
     },
     "execution_count": 83,
     "metadata": {},
     "output_type": "execute_result"
    }
   ],
   "source": [
    "# CI top-5\n",
    "n_bootstraps = 1000\n",
    "rng_seed = 42  # control reproducibility\n",
    "bootstrapped_scores = []\n",
    "y_pred = top5\n",
    "y_test = pd.DataFrame([True for i in range(len(y_pred))])\n",
    "rng = np.random.RandomState(rng_seed)\n",
    "\n",
    "for i in range(n_bootstraps):\n",
    "    # bootstrap by sampling with replacement on the prediction indices\n",
    "    indices = rng.randint(0, len(y_pred), len(y_pred))\n",
    "\n",
    "    score = np.round(sum(pd.DataFrame(y_pred).iloc[indices][0].values) / sum(y_test.iloc[indices][0].values) * 100, 4)\n",
    "    bootstrapped_scores.append(score)\n",
    "    # print(\"Bootstrap #{} ROC area: {:0.3f}\".format(i + 1, score))\n",
    "np.percentile(bootstrapped_scores, (2.5, 97.5))"
   ]
  },
  {
   "cell_type": "code",
   "execution_count": 84,
   "id": "f85739b8-035e-47bc-99d6-60be231ed18b",
   "metadata": {},
   "outputs": [
    {
     "name": "stdout",
     "output_type": "stream",
     "text": [
      "top1 accuracy:  32.9815\n",
      "top5 accuracy:  48.8127\n"
     ]
    }
   ],
   "source": [
    "df_p_fm = df_p[df_p['study'].isin(['ARIC', 'None'])]\n",
    "# get the top1 and top5 accuracy (FM model)\n",
    "top1 = []\n",
    "top5 = []\n",
    "for idx, row in df_p_fm.iterrows():\n",
    "    pred_df = CPred.predict_concept(row['variable_description'])\n",
    "    pred_df = pred_df.sort_values(by=['pred_score_3'], ascending=False)\n",
    "    pred_concepts = pred_df['concept_name']\n",
    "    label = row['concept']\n",
    "    if label in pred_concepts[0:1].values:\n",
    "        top1.append(True)\n",
    "    else:\n",
    "        top1.append(False)\n",
    "    if label in pred_concepts[0:5].values:\n",
    "        top5.append(True)\n",
    "    else:\n",
    "        top5.append(False)\n",
    "print('top1 accuracy: ', np.round(sum(top1)/len(top1) * 100, 4))\n",
    "print('top5 accuracy: ', np.round(sum(top5)/len(top5) * 100, 4))"
   ]
  },
  {
   "cell_type": "code",
   "execution_count": 85,
   "id": "e1c27f28-9929-46ef-bb9e-25477a78f043",
   "metadata": {},
   "outputs": [
    {
     "data": {
      "text/plain": [
       "array([28.2322, 37.467 ])"
      ]
     },
     "execution_count": 85,
     "metadata": {},
     "output_type": "execute_result"
    }
   ],
   "source": [
    "# CI top-1\n",
    "n_bootstraps = 1000\n",
    "rng_seed = 42  # control reproducibility\n",
    "bootstrapped_scores = []\n",
    "y_pred = top1\n",
    "y_test = pd.DataFrame([True for i in range(len(y_pred))])\n",
    "rng = np.random.RandomState(rng_seed)\n",
    "\n",
    "for i in range(n_bootstraps):\n",
    "    # bootstrap by sampling with replacement on the prediction indices\n",
    "    indices = rng.randint(0, len(y_pred), len(y_pred))\n",
    "\n",
    "    score = np.round(sum(pd.DataFrame(y_pred).iloc[indices][0].values) / sum(y_test.iloc[indices][0].values) * 100, 4)\n",
    "    bootstrapped_scores.append(score)\n",
    "    # print(\"Bootstrap #{} ROC area: {:0.3f}\".format(i + 1, score))\n",
    "np.percentile(bootstrapped_scores, (2.5, 97.5))"
   ]
  },
  {
   "cell_type": "code",
   "execution_count": 86,
   "id": "06529fe4-55c2-494d-8dc8-4e433b02d129",
   "metadata": {},
   "outputs": [
    {
     "data": {
      "text/plain": [
       "array([43.7995, 53.562 ])"
      ]
     },
     "execution_count": 86,
     "metadata": {},
     "output_type": "execute_result"
    }
   ],
   "source": [
    "# CI top-5\n",
    "n_bootstraps = 1000\n",
    "rng_seed = 42  # control reproducibility\n",
    "bootstrapped_scores = []\n",
    "y_pred = top5\n",
    "y_test = pd.DataFrame([True for i in range(len(y_pred))])\n",
    "rng = np.random.RandomState(rng_seed)\n",
    "\n",
    "for i in range(n_bootstraps):\n",
    "    # bootstrap by sampling with replacement on the prediction indices\n",
    "    indices = rng.randint(0, len(y_pred), len(y_pred))\n",
    "\n",
    "    score = np.round(sum(pd.DataFrame(y_pred).iloc[indices][0].values) / sum(y_test.iloc[indices][0].values) * 100, 4)\n",
    "    bootstrapped_scores.append(score)\n",
    "    # print(\"Bootstrap #{} ROC area: {:0.3f}\".format(i + 1, score))\n",
    "np.percentile(bootstrapped_scores, (2.5, 97.5))"
   ]
  },
  {
   "cell_type": "code",
   "execution_count": 87,
   "id": "00cfbf7b-61cf-460c-8dca-392338d1fedc",
   "metadata": {},
   "outputs": [
    {
     "name": "stdout",
     "output_type": "stream",
     "text": [
      "top1 accuracy:  39.3235\n",
      "top5 accuracy:  59.6195\n"
     ]
    }
   ],
   "source": [
    "df_p_ma = df_p[df_p['study'].isin(['Framingham', 'None'])]\n",
    "# get the top1 and top5 accuracy (MA model)\n",
    "top1 = []\n",
    "top5 = []\n",
    "for idx, row in df_p_ma.iterrows():\n",
    "    pred_df = CPred.predict_concept(row['variable_description'])\n",
    "    pred_df = pred_df.sort_values(by=['pred_score_1'], ascending=False)\n",
    "    pred_concepts = pred_df['concept_name']\n",
    "    label = row['concept']\n",
    "    if label in pred_concepts[0:1].values:\n",
    "        top1.append(True)\n",
    "    else:\n",
    "        top1.append(False)\n",
    "    if label in pred_concepts[0:5].values:\n",
    "        top5.append(True)\n",
    "    else:\n",
    "        top5.append(False)\n",
    "print('top1 accuracy: ', np.round(sum(top1)/len(top1) * 100, 4))\n",
    "print('top5 accuracy: ', np.round(sum(top5)/len(top5) * 100, 4))"
   ]
  },
  {
   "cell_type": "code",
   "execution_count": 88,
   "id": "72230028-38ae-424e-b4b1-a41f14fde43e",
   "metadata": {},
   "outputs": [
    {
     "data": {
      "text/plain": [
       "array([35.0951, 43.7632])"
      ]
     },
     "execution_count": 88,
     "metadata": {},
     "output_type": "execute_result"
    }
   ],
   "source": [
    "# CI top-1\n",
    "n_bootstraps = 1000\n",
    "rng_seed = 42  # control reproducibility\n",
    "bootstrapped_scores = []\n",
    "y_pred = top1\n",
    "y_test = pd.DataFrame([True for i in range(len(y_pred))])\n",
    "rng = np.random.RandomState(rng_seed)\n",
    "\n",
    "for i in range(n_bootstraps):\n",
    "    # bootstrap by sampling with replacement on the prediction indices\n",
    "    indices = rng.randint(0, len(y_pred), len(y_pred))\n",
    "\n",
    "    score = np.round(sum(pd.DataFrame(y_pred).iloc[indices][0].values) / sum(y_test.iloc[indices][0].values) * 100, 4)\n",
    "    bootstrapped_scores.append(score)\n",
    "    # print(\"Bootstrap #{} ROC area: {:0.3f}\".format(i + 1, score))\n",
    "np.percentile(bootstrapped_scores, (2.5, 97.5))"
   ]
  },
  {
   "cell_type": "code",
   "execution_count": 89,
   "id": "80878083-8039-4971-8841-d43819dae68b",
   "metadata": {},
   "outputs": [
    {
     "data": {
      "text/plain": [
       "array([55.3911, 64.0592])"
      ]
     },
     "execution_count": 89,
     "metadata": {},
     "output_type": "execute_result"
    }
   ],
   "source": [
    "# CI top-5\n",
    "n_bootstraps = 1000\n",
    "rng_seed = 42  # control reproducibility\n",
    "bootstrapped_scores = []\n",
    "y_pred = top5\n",
    "y_test = pd.DataFrame([True for i in range(len(y_pred))])\n",
    "rng = np.random.RandomState(rng_seed)\n",
    "\n",
    "for i in range(n_bootstraps):\n",
    "    # bootstrap by sampling with replacement on the prediction indices\n",
    "    indices = rng.randint(0, len(y_pred), len(y_pred))\n",
    "\n",
    "    score = np.round(sum(pd.DataFrame(y_pred).iloc[indices][0].values) / sum(y_test.iloc[indices][0].values) * 100, 4)\n",
    "    bootstrapped_scores.append(score)\n",
    "    # print(\"Bootstrap #{} ROC area: {:0.3f}\".format(i + 1, score))\n",
    "np.percentile(bootstrapped_scores, (2.5, 97.5))"
   ]
  },
  {
   "cell_type": "code",
   "execution_count": null,
   "id": "b0f4b05f-8032-4873-93bc-74aad1e65d5b",
   "metadata": {},
   "outputs": [],
   "source": []
  }
 ],
 "metadata": {
  "kernelspec": {
   "display_name": "duke",
   "language": "python",
   "name": "duke"
  },
  "language_info": {
   "codemirror_mode": {
    "name": "ipython",
    "version": 3
   },
   "file_extension": ".py",
   "mimetype": "text/x-python",
   "name": "python",
   "nbconvert_exporter": "python",
   "pygments_lexer": "ipython3",
   "version": "3.7.16"
  }
 },
 "nbformat": 4,
 "nbformat_minor": 5
}
